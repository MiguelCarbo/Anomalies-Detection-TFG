{
  "nbformat": 4,
  "nbformat_minor": 0,
  "metadata": {
    "colab": {
      "provenance": [],
      "include_colab_link": true
    },
    "kernelspec": {
      "name": "python3",
      "display_name": "Python 3"
    },
    "language_info": {
      "name": "python"
    }
  },
  "cells": [
    {
      "cell_type": "markdown",
      "metadata": {
        "id": "view-in-github",
        "colab_type": "text"
      },
      "source": [
        "<a href=\"https://colab.research.google.com/github/MiguelCarbo/Anomalies-Detection-TFG/blob/main/v2_PYOD_Anomalies_795802.ipynb\" target=\"_parent\"><img src=\"https://colab.research.google.com/assets/colab-badge.svg\" alt=\"Open In Colab\"/></a>"
      ]
    },
    {
      "cell_type": "code",
      "source": [
        "# Reset Variables\n",
        "%reset"
      ],
      "metadata": {
        "id": "dLMEwTejzEg1"
      },
      "execution_count": null,
      "outputs": []
    },
    {
      "cell_type": "code",
      "source": [
        "#from google.colab import files\n",
        "import csv\n",
        "import numpy as np\n",
        "from sklearn.model_selection import train_test_split\n",
        "from sklearn.naive_bayes import GaussianNB\n",
        "from sklearn.ensemble import BaggingClassifier\n",
        "from sklearn.tree import DecisionTreeClassifier\n",
        "from sklearn import metrics\n",
        "from tabulate import tabulate\n",
        "from sklearn.tree import plot_tree, export_graphviz\n",
        "import graphviz \n",
        "import matplotlib.pyplot as plt\n",
        "from sklearn.ensemble import RandomForestClassifier\n",
        "from sklearn.ensemble import AdaBoostClassifier\n",
        "from xgboost import XGBClassifier\n",
        "import pandas as pd\n",
        "import seaborn as sns\n",
        "import numpy as np\n",
        "from sklearn.metrics import confusion_matrix, ConfusionMatrixDisplay\n",
        "from sklearn.model_selection import train_test_split\n",
        "from sklearn.feature_selection import SelectKBest,f_classif\n",
        "import plotly.express as px\n",
        "import glob\n",
        "import json"
      ],
      "metadata": {
        "id": "SYuyC_qRTg3I"
      },
      "execution_count": null,
      "outputs": []
    },
    {
      "cell_type": "code",
      "execution_count": null,
      "metadata": {
        "id": "8Tz2rBsCy7M-"
      },
      "outputs": [],
      "source": [
        "# Python Outlier Detection + Zeek Analysis Tool\n",
        "!pip install pyod\n",
        "!pip install zat\n",
        "\n",
        "# Import all models\n",
        "from pyod.models.abod import ABOD\n",
        "from pyod.models.cblof import CBLOF\n",
        "from pyod.models.iforest import IForest\n",
        "from pyod.models.knn import KNN\n",
        "from pyod.models.lof import LOF\n",
        "from pyod.models.ocsvm import OCSVM\n",
        "from pyod.models.pca import PCA\n",
        "from pyod.models.ecod import ECOD\n",
        "from pyod.models.copod import COPOD\n",
        "\n",
        "# Local Imports\n",
        "import zat;\n",
        "from zat.log_to_dataframe import LogToDataFrame;\n",
        "from zat.dataframe_to_matrix import DataFrameToMatrix;\n",
        "\n",
        "# Packet Imports\n",
        "import pandas as pd;\n",
        "import numpy as np;\n",
        "import sklearn;\n",
        "from sklearn.ensemble import IsolationForest;\n",
        "from sklearn.decomposition import PCA;\n",
        "from sklearn.cluster import KMeans, DBSCAN;\n",
        "from sklearn.preprocessing import LabelEncoder\n",
        "from sklearn.manifold import TSNE\n",
        "\n",
        "from numpy import percentile\n",
        "import matplotlib.pyplot as plt\n",
        "import matplotlib.font_manager\n",
        "\n",
        "# Version Printing\n",
        "print('zat: {:s}'.format(zat.__version__))\n",
        "print('Pandas: {:s}'.format(pd.__version__))\n",
        "print('Numpy: {:s}'.format(np.__version__))\n",
        "print('Scikit Learn Version:', sklearn.__version__)\n",
        "# print('PYOD Version: {:s}'.format(pyod.__version__))"
      ]
    },
    {
      "cell_type": "markdown",
      "source": [
        "### 1. DATAFRAME CREATION FROM ZEEK LOG ###"
      ],
      "metadata": {
        "id": "Jfa1jAg07hSQ"
      }
    },
    {
      "cell_type": "code",
      "source": [
        "# Create a Pandas dataframe from the Zeek log\n",
        "log_to_df = LogToDataFrame();\n",
        "conn_df = log_to_df.create_dataframe('conn.log');\n",
        "print('Read in {:d} Rows...'.format(len(conn_df)))\n",
        "conn_df.columns"
      ],
      "metadata": {
        "id": "UOeFMp2jCFT5"
      },
      "execution_count": null,
      "outputs": []
    },
    {
      "cell_type": "markdown",
      "source": [
        "### 2. FEATURE SELECTION ###"
      ],
      "metadata": {
        "id": "C6Pls2ff7mpe"
      }
    },
    {
      "cell_type": "code",
      "source": [
        "full_features = ['sourceAddress', 'sourcePort', 'destinationAddress', 'destinationPort', 'uid', 'protocol', 'service', 'duration', 'orig_bytes', 'resp_bytes',\n",
        "       'conn_state', 'history', 'orig_pkts', 'orig_ip_bytes', 'resp_pkts', 'resp_ip_bytes', 'tunnel_parents',\n",
        "        'mediaOrigen', 'mediaResp','desvOrigen', 'desvResp', 'noceroOrigen', 'noceroResp', 'mediaTime', 'desvTime']\n",
        "\n",
        "features = ['service', 'duration', 'orig_bytes', 'resp_bytes', 'conn_state', 'history',\n",
        "            'orig_pkts', 'orig_ip_bytes', 'resp_pkts', 'resp_ip_bytes', 'tunnel_parents',\n",
        "        'mediaOrigen', 'mediaResp','desvOrigen', 'desvResp', 'noceroOrigen', 'noceroResp', 'mediaTime', 'desvTime']"
      ],
      "metadata": {
        "id": "1rHeRArxrjN4"
      },
      "execution_count": 3,
      "outputs": []
    },
    {
      "cell_type": "markdown",
      "source": [
        "### 3. DATA PREPARATION ###"
      ],
      "metadata": {
        "id": "IwgKNNwJ7voM"
      }
    },
    {
      "cell_type": "markdown",
      "source": [
        "#### 3.1 DATA CLEANSING ####"
      ],
      "metadata": {
        "id": "c0WY6JNY71ww"
      }
    },
    {
      "cell_type": "code",
      "source": [
        "# Feature Filtering + NaNs removal\n",
        "conn_df = conn_df[full_features]\n",
        "conn_df = conn_df.dropna()\n",
        "conn_features_df = conn_df[features]"
      ],
      "metadata": {
        "id": "a7oaApZdrq0z"
      },
      "execution_count": 4,
      "outputs": []
    },
    {
      "cell_type": "code",
      "source": [
        "# Additional data preparation\n",
        "for feature in features:\n",
        "    if (conn_features_df[feature].dtype.name == 'category') and ('0' not in conn_features_df[feature].cat.categories):\n",
        "        conn_features_df[feature] = conn_features_df[feature].cat.add_categories(['0'])\n",
        "        conn_features_df[feature] = conn_features_df[feature].fillna('0')\n",
        "    elif pd.api.types.is_timedelta64_dtype(conn_features_df[feature]): \n",
        "        conn_features_df[feature] = conn_features_df[feature].fillna(pd.Timedelta(0))\n",
        "        conn_features_df[feature] = conn_features_df[feature].dt.total_seconds().astype(int)\n",
        "    else: \n",
        "        conn_features_df[feature] = conn_features_df[feature].fillna(0)"
      ],
      "metadata": {
        "id": "6vXJ9rVp267o"
      },
      "execution_count": null,
      "outputs": []
    },
    {
      "cell_type": "markdown",
      "source": [
        "#### 3.2 LABEL ENCODING ####"
      ],
      "metadata": {
        "id": "YVEUn4BH7ywF"
      }
    },
    {
      "cell_type": "code",
      "source": [
        "# Relevant Considerations\n",
        "# -- The ABOD (Angle-based Outlier Detection) algorithm is a distance-based outlier \n",
        "# -- detection algorithm that measures the angles between points in a high-dimensional space to detect outliers. \n",
        "\n",
        "# -- As a distance-based algorithm, it requires that all input features be numeric, as it relies on computing distances between points in the feature space.\n",
        "# -- If your data contains non-numeric features, such as string values in some columns, then the ABOD algorithm will not be able to compute distances correctly \n",
        "# -- and will not be able to fit the data. This is normal behavior for distance-based algorithms like ABOD.\n",
        "\n",
        "# -- To use the ABOD algorithm on your data, you will need to preprocess your data to convert the string features into numeric ones. \n",
        "# -- There are several ways to do this, depending on the specific characteristics of your data. One common approach is to use one-hot encoding or \n",
        "# -- label encoding to convert categorical features into numerical features that can be used by the algorithm.\n",
        "\n",
        "# -- Alternatively, you may consider using a different outlier detection algorithm that can handle mixed data types, \n",
        "# -- such as the Isolation Forest algorithm or the Local Outlier Factor algorithm. These algorithms can handle both numeric and categorical features, \n",
        "# -- and can be used on mixed data types without requiring feature preprocessing."
      ],
      "metadata": {
        "id": "suhglnyO8iiZ"
      },
      "execution_count": null,
      "outputs": []
    },
    {
      "cell_type": "code",
      "source": [
        "# LabelEncoding\n",
        "# -- Another option might be using OneHotEncoding\n",
        "le = LabelEncoder()\n",
        "for feature in features:\n",
        "    if (conn_features_df[feature].dtype.name == 'category') :\n",
        "        print(feature)\n",
        "        conn_features_df[feature] = le.fit_transform(conn_features_df[feature])"
      ],
      "metadata": {
        "id": "EIdoCzMJ9i39"
      },
      "execution_count": null,
      "outputs": []
    },
    {
      "cell_type": "markdown",
      "source": [
        "#### 3.3 NUMPY ARRAY CREATION ####"
      ],
      "metadata": {
        "id": "qUpN0n1H8HkD"
      }
    },
    {
      "cell_type": "code",
      "source": [
        "# Dataframe conversion to float \n",
        "# - Necesario para operaciones posteriores\n",
        "conn_features_df = conn_features_df.astype(float)\n",
        "\n",
        "# Convert the dataframe to a numpy array\n",
        "X = conn_features_df.to_numpy()\n",
        "print(X.shape)"
      ],
      "metadata": {
        "id": "PwXvEvTHC6ld"
      },
      "execution_count": null,
      "outputs": []
    },
    {
      "cell_type": "markdown",
      "source": [
        "### 4. CLASSIFICATION ALGORITHMS ###"
      ],
      "metadata": {
        "id": "-ttZ7WvM8NOE"
      }
    },
    {
      "cell_type": "code",
      "source": [
        "# Random State 42\n",
        "# -- In NumPy, the random_state parameter is used to set the seed for the \n",
        "# -- random number generator, which determines the sequence of random numbers \n",
        "# -- generated by NumPy's random functions.\n",
        "\n",
        "# -- When you set random_state to a fixed value, you get a reproducible sequence \n",
        "# -- of random numbers every time you run your code. \n",
        "# -- This can be useful when you need to compare results across multiple runs \n",
        "# -- or when you want to ensure that the random numbers are the same each time you run your code.\n",
        "\n",
        "# -- In the case of random_state=42, the number 42 is an arbitrary value that \n",
        "# -- is commonly used as a default seed in many programming examples and tutorials.\n",
        "\n",
        "rs = np.random.RandomState(42)\n",
        "\n",
        "# Outlier detectetion algorithms\n",
        "clf = {\n",
        "    # 'Angle-based Outlier Detector (ABOD)': ABOD(contamination=0.1),\n",
        "    # 'Cluster-based Local Outlier Factor (CBLOF)': CBLOF(contamination=0.1, check_estimator=False, random_state=rs),\n",
        "    'Isolation Forest': IForest(contamination=0.1, random_state=rs),\n",
        "    # 'K Nearest Neighbors (KNN)': KNN(contamination=0.1),\n",
        "    # 'Average KNN': KNN(method='mean', contamination=0.1),\n",
        "    # 'Local Outlier Factor (LOF)': LOF(n_neighbors=35, contamination=0.1),\n",
        "    'Copula Based Outlier Detector (COPOD)': COPOD(contamination=0.1),\n",
        "    'Emipirical-Cumulative-Distribution-based Outlier Detector (ECOD)': ECOD(contamination=0.1),\n",
        "    # 'One-class SVM (OCSVM)': OCSVM(contamination=0.1),\n",
        "}"
      ],
      "metadata": {
        "id": "JVhs8LtMBz8-"
      },
      "execution_count": 8,
      "outputs": []
    },
    {
      "cell_type": "code",
      "source": [
        "# Show all detectors\n",
        "for i, classifier in enumerate(clf.keys()):\n",
        "    print('Model', i + 1, classifier)"
      ],
      "metadata": {
        "colab": {
          "base_uri": "https://localhost:8080/"
        },
        "id": "6ADAUFj4B2HC",
        "outputId": "b14d2b2d-147f-455e-96f6-94d851cd8251"
      },
      "execution_count": 9,
      "outputs": [
        {
          "output_type": "stream",
          "name": "stdout",
          "text": [
            "Model 1 Isolation Forest\n",
            "Model 2 Copula Based Outlier Detector (COPOD)\n",
            "Model 3 Emipirical-Cumulative-Distribution-based Outlier Detector (ECOD)\n"
          ]
        }
      ]
    },
    {
      "cell_type": "markdown",
      "source": [
        "### 5. MODEL FITTING - TRAINING - PREDICTION ###"
      ],
      "metadata": {
        "id": "VFaGIftI8cQb"
      }
    },
    {
      "cell_type": "code",
      "source": [
        "clusters_separation = [0]\n",
        "clf_names = list(clf.keys())\n",
        "outliers_pred = np.zeros((X.shape[0], len(clf_names)))\n",
        "\n",
        "# Fit the models with the generated data and compare model performances\n",
        "for i, offset in enumerate(clusters_separation):\n",
        "    np.random.seed(42)\n",
        "\n",
        "    # Fit the model\n",
        "    for i, (classifier_name, classifier) in enumerate(clf.items()):\n",
        "\n",
        "        print(i + 1, 'fitting', classifier_name)\n",
        "\n",
        "        # Fit the data and tag outliers\n",
        "        classifier.fit(X)\n",
        "\n",
        "        # Scores prediction\n",
        "        scores_pred = classifier.decision_function(X) * -1\n",
        "        \n",
        "        # Outliers detection (based on prediction)\n",
        "        y_pred = classifier.predict(X)\n",
        "        outliers_pred[:,i] = y_pred;"
      ],
      "metadata": {
        "id": "fckjDi2oB_ko",
        "colab": {
          "base_uri": "https://localhost:8080/"
        },
        "outputId": "439b0904-2dff-4b2a-9677-e13e4026659a"
      },
      "execution_count": 10,
      "outputs": [
        {
          "output_type": "stream",
          "name": "stdout",
          "text": [
            "1 fitting Isolation Forest\n",
            "2 fitting Copula Based Outlier Detector (COPOD)\n",
            "3 fitting Emipirical-Cumulative-Distribution-based Outlier Detector (ECOD)\n"
          ]
        }
      ]
    },
    {
      "cell_type": "markdown",
      "source": [
        "### 6. RESULT ANALYSIS ###"
      ],
      "metadata": {
        "id": "kPQbkWBemkra"
      }
    },
    {
      "cell_type": "markdown",
      "source": [
        "### 6.1 OUTLIERS DATAFRAMES ###"
      ],
      "metadata": {
        "id": "FlqE0YvjmoZW"
      }
    },
    {
      "cell_type": "code",
      "source": [
        "# New Dataframes to store each Outlier\n",
        "ABOD_out_df = pd.DataFrame()\n",
        "CBLOF_out_df = pd.DataFrame()\n",
        "IFOREST_out_df = pd.DataFrame()\n",
        "KNN_out_df = pd.DataFrame()\n",
        "AKNN_out_df = pd.DataFrame()\n",
        "LOF_out_df = pd.DataFrame()\n",
        "ECOD_out_df = pd.DataFrame()\n",
        "COPOD_out_df = pd.DataFrame()\n",
        "\n",
        "# Outliers Stored for each algorithm\n",
        "# - Se guarda en cada df las filas detectadas como 'outliers' para cada algoritmo\n",
        "for i in range(outliers_pred.shape[0]):\n",
        "    if outliers_pred[i,0] == 1:\n",
        "        IFOREST_out_df = IFOREST_out_df.append(conn_df.iloc[i])\n",
        "    if outliers_pred[i,1] == 1:\n",
        "        COPOD_out_df = COPOD_out_df.append(conn_df.iloc[i])\n",
        "    if outliers_pred[i,2] == 1:\n",
        "        ECOD_out_df = ECOD_out_df.append(conn_df.iloc[i])\n",
        "\n",
        "# Numeric Data Types Correction\n",
        "# - Necesario porque en caso contrario, los puertos se codifican como int16 y existe overflow\n",
        "IFOREST_out_df['sourcePort'] = np.uint16(IFOREST_out_df['sourcePort'])\n",
        "IFOREST_out_df['destinationPort'] = np.uint16(IFOREST_out_df['destinationPort'])\n",
        "COPOD_out_df['sourcePort'] = np.uint16(COPOD_out_df['sourcePort'])\n",
        "COPOD_out_df['destinationPort'] = np.uint16(COPOD_out_df['destinationPort'])\n",
        "ECOD_out_df['sourcePort'] = np.uint16(ECOD_out_df['sourcePort'])\n",
        "ECOD_out_df['destinationPort'] = np.uint16(ECOD_out_df['destinationPort'])\n"
      ],
      "metadata": {
        "id": "H1Th39fmSmEk"
      },
      "execution_count": 26,
      "outputs": []
    },
    {
      "cell_type": "markdown",
      "source": [
        "### 6.2 ANOMALOUS FLOW-ID EXTRACTION ###"
      ],
      "metadata": {
        "id": "QTXIk56imxhR"
      }
    },
    {
      "cell_type": "code",
      "source": [
        "# We extract unique malign FlowID Values\n",
        "# - Se extraen los FlowID -> Protocolo + IPs + Puertos para a continuación medir aciertos y errores\n",
        "IFOREST_out_df['flow_id'] = IFOREST_out_df['protocol'].astype(str) + IFOREST_out_df['sourceAddress'].astype(str) + IFOREST_out_df['destinationAddress'].astype(str) + IFOREST_out_df['sourcePort'].astype(str) + IFOREST_out_df['destinationPort'].astype(str)\n",
        "IFOREST_flow_id_values = IFOREST_out_df['flow_id'].unique()\n",
        "\n",
        "COPOD_out_df['flow_id'] = COPOD_out_df['protocol'].astype(str) + COPOD_out_df['sourceAddress'].astype(str) + COPOD_out_df['destinationAddress'].astype(str) + COPOD_out_df['sourcePort'].astype(str) + COPOD_out_df['destinationPort'].astype(str)\n",
        "COPOD_flow_id_values = COPOD_out_df['flow_id'].unique()\n",
        "\n",
        "ECOD_out_df['flow_id'] = ECOD_out_df['protocol'].astype(str) + ECOD_out_df['sourceAddress'].astype(str) + ECOD_out_df['destinationAddress'].astype(str) + ECOD_out_df['sourcePort'].astype(str) + ECOD_out_df['destinationPort'].astype(str)\n",
        "ECOD_flow_id_values = ECOD_out_df['flow_id'].unique()\n"
      ],
      "metadata": {
        "id": "J-pW1_GklzCn"
      },
      "execution_count": 29,
      "outputs": []
    },
    {
      "cell_type": "markdown",
      "source": [
        "### 6.3 ANOMALOUS UID EXTRACTION ###"
      ],
      "metadata": {
        "id": "VSkwvLud2J9x"
      }
    },
    {
      "cell_type": "code",
      "source": [
        "# We extract unique malign UID Values obtained with each algorithm\n",
        "IFOREST_uid_values = IFOREST_out_df['uid'].unique()\n",
        "COPOD_uid_values = COPOD_out_df['uid'].unique()\n",
        "ECOD_uid_values = ECOD_out_df['uid'].unique()"
      ],
      "metadata": {
        "id": "dlhT7g432Pix"
      },
      "execution_count": 33,
      "outputs": []
    },
    {
      "cell_type": "markdown",
      "source": [
        "### 7. RESULT ANALYSIS ###"
      ],
      "metadata": {
        "id": "8h-435XWyWIz"
      }
    },
    {
      "cell_type": "markdown",
      "source": [
        "#### 7.A FROM ORIGINAL CSV ####"
      ],
      "metadata": {
        "id": "C2IFlKExyY2J"
      }
    },
    {
      "cell_type": "code",
      "source": [
        "# NOTA: esta fuente no debe ser tomada como referencia fiable puesto que los flujos\n",
        "# del archivo CSV han sido etiquetados de forma errónea; se utiliza solo como una \n",
        "# medida temporal de orientación\n",
        "\n",
        "# Original Source with Labeled Data\n",
        "original_df = pd.read_csv('Tuesday-WorkingHours.pcap_ISCX.csv')\n",
        "print(original_df.columns)\n",
        "\n",
        "# Eliminamos todas las filas que tengan la columna de Benign\n",
        "malign_original_df = original_df.drop(original_df[original_df[' Label'] == 'BENIGN'].index)\n",
        "\n",
        "# Formateo del Dataframe\n",
        "if (' Source IP' and ' Destination IP' and ' Source Port' and ' Destination Port') in original_df.columns:\n",
        "    malign_original_df = malign_original_df.rename(columns={' Protocol': 'protocol'})\n",
        "    malign_original_df = malign_original_df.rename(columns={' Source IP': 'sourceAddress'})\n",
        "    malign_original_df = malign_original_df.rename(columns={' Destination IP': 'destinationAddress'})\n",
        "    malign_original_df = malign_original_df.rename(columns={' Source Port': 'sourcePort'})\n",
        "    malign_original_df = malign_original_df.rename(columns={' Destination Port': 'destinationPort'})\n",
        "\n",
        "# Ajustamos los valores de la columna 'protocol'\n",
        "mask_6 = malign_original_df['protocol'] == 6\n",
        "mask_17 = malign_original_df['protocol'] == 17\n",
        "malign_original_df.loc[mask_6, 'protocol'] = 'tcp'\n",
        "malign_original_df.loc[mask_17, 'protocol'] = 'udp'\n",
        "\n",
        "# Obtenemos los flujos malignos identificados de forma única\n",
        "malign_original_df['flow_id'] = malign_original_df['protocol'].astype(str) + malign_original_df['sourceAddress'].astype(str) + malign_original_df['destinationAddress'].astype(str) + malign_original_df['sourcePort'].astype(str) + malign_original_df['destinationPort'].astype(str)\n",
        "malign_flow_id_values = malign_original_df['flow_id'].unique()\n"
      ],
      "metadata": {
        "id": "kZVadtDzykWg"
      },
      "execution_count": null,
      "outputs": []
    },
    {
      "cell_type": "code",
      "source": [
        "# Positive Detection\n",
        "detected_positives = 0\n",
        "\n",
        "# Analizamos para cada algoritmo los resultados obtenidos\n",
        "for i in range (0, len(clf_names)):\n",
        "    if i == 0:\n",
        "        for flow_id in IFOREST_flow_id_values:\n",
        "            # Check if the concatenated value is in the list of ip_src_dest values\n",
        "            if flow_id in malign_flow_id_values:\n",
        "                detected_positives+=1\n",
        "        print('- IFOREST Results -')\n",
        "        print('Detected Positives:', detected_positives)\n",
        "        print('False Positives: ', len(IFOREST_flow_id_values) - detected_positives)\n",
        "        print('Undetected Malign:', len(malign_flow_id_values) - detected_positives)\n",
        "    if i == 1:\n",
        "        for flow_id in COPOD_flow_id_values:\n",
        "            # Check if the concatenated value is in the list of ip_src_dest values\n",
        "            if flow_id in malign_flow_id_values:\n",
        "                detected_positives+=1\n",
        "        print('- COPOD Results -')\n",
        "        print('Detected Positives:', detected_positives)\n",
        "        print('False Positives: ', len(COPOD_flow_id_values) - detected_positives)\n",
        "        print('Undetected Malign:', len(malign_flow_id_values) - detected_positives)\n",
        "    if i == 2:\n",
        "        for flow_id in ECOD_flow_id_values:\n",
        "            # Check if the concatenated value is in the list of ip_src_dest values\n",
        "            if flow_id in malign_flow_id_values:\n",
        "                detected_positives+=1\n",
        "        print('- ECOD Results -')\n",
        "        print('Detected Positives:', detected_positives)\n",
        "        print('False Positives: ', len(ECOD_flow_id_values) - detected_positives)\n",
        "        print('Undetected Malign:', len(malign_flow_id_values) - detected_positives)\n"
      ],
      "metadata": {
        "colab": {
          "base_uri": "https://localhost:8080/"
        },
        "id": "QGdpbQaYyoq8",
        "outputId": "ea71f3ec-107e-4084-95d8-81a8fc6e7ec3"
      },
      "execution_count": 47,
      "outputs": [
        {
          "output_type": "stream",
          "name": "stdout",
          "text": [
            "- IFOREST Results -\n",
            "Detected Positives: 47\n",
            "False Positives:  29476\n",
            "Undetected Malign: 6923\n",
            "- COPOD Results -\n",
            "Detected Positives: 202\n",
            "False Positives:  29164\n",
            "Undetected Malign: 6768\n",
            "- ECOD Results -\n",
            "Detected Positives: 2045\n",
            "False Positives:  27265\n",
            "Undetected Malign: 4925\n"
          ]
        }
      ]
    },
    {
      "cell_type": "markdown",
      "source": [
        "#### 7.B FROM SCRIPT LABELED .LOG FILE ####"
      ],
      "metadata": {
        "id": "FLNEKq1myc6n"
      }
    },
    {
      "cell_type": "code",
      "source": [
        "# Dataframe etiquetado según el Script creado\n",
        "# - Este archivo ha sido etiquetado de forma correcta \n",
        "labeled_conn_df = log_to_df.create_dataframe('conn_label.log');\n",
        "malign_conn_df = labeled_conn_df[labeled_conn_df['label'] == 'MALIGN'];\n",
        "malign_conn_df['flow_id'] = malign_conn_df['protocol'].astype(str) + malign_conn_df['sourceAddress'].astype(str) + malign_conn_df['destinationAddress'].astype(str) + malign_conn_df['sourcePort'].astype(str) + malign_conn_df['destinationPort'].astype(str)"
      ],
      "metadata": {
        "id": "J-oWbgQI0WkS"
      },
      "execution_count": null,
      "outputs": []
    },
    {
      "cell_type": "code",
      "source": [
        "# La detección de flujos se podrá hacer por el parámetro UID de los archivos\n",
        "# generados por Zeek o por una etiqueta de 'FlowID', de forma semejante a como\n",
        "# se ha hecho con el CSV\n",
        "\n",
        "# -- Detección utilizando el valor de identificador único de flujo\n",
        "# Unique Malign UID Values\n",
        "malign_conn_uid_values = malign_conn_df['uid'].unique()\n",
        "detected_positives = 0\n",
        "\n",
        "print(' ')\n",
        "print('-- Detected Malign UID Values --')\n",
        "print(' ')\n",
        "\n",
        "# Detected Malign UID Values\n",
        "for i in range (0, len(clf_names)):\n",
        "    if i == 0:\n",
        "        for uid in IFOREST_uid_values:\n",
        "            # Check if the concatenated value is in the list of ip_src_dest values\n",
        "            if uid in malign_conn_uid_values:\n",
        "                detected_positives+=1\n",
        "        print('- IFOREST Results -')\n",
        "        print('Detected Positives:', detected_positives)\n",
        "        print('False Positives: ', len(IFOREST_uid_values) - detected_positives)\n",
        "        print('Undetected Malign:', len(malign_conn_uid_values) - detected_positives)\n",
        "        print(' ')\n",
        "\n",
        "    if i == 1:\n",
        "        for uid in COPOD_uid_values:\n",
        "            # Check if the concatenated value is in the list of ip_src_dest values\n",
        "            if uid in malign_conn_uid_values:\n",
        "                detected_positives+=1\n",
        "        print('- COPOD Results -')\n",
        "        print('Detected Positives:', detected_positives)\n",
        "        print('False Positives: ', len(COPOD_uid_values) - detected_positives)\n",
        "        print('Undetected Malign:', len(malign_conn_uid_values) - detected_positives)\n",
        "        print(' ')\n",
        "\n",
        "    if i == 2:\n",
        "        for uid in ECOD_uid_values:\n",
        "            # Check if the concatenated value is in the list of ip_src_dest values\n",
        "            if uid in malign_conn_uid_values:\n",
        "                detected_positives+=1\n",
        "        print('- ECOD Results -')\n",
        "        print('Detected Positives:', detected_positives)\n",
        "        print('False Positives: ', len(ECOD_uid_values) - detected_positives)\n",
        "        print('Undetected Malign:', len(malign_conn_uid_values) - detected_positives)\n",
        "        print(' ')"
      ],
      "metadata": {
        "colab": {
          "base_uri": "https://localhost:8080/"
        },
        "id": "VgkVl0lf2Ari",
        "outputId": "0d7092a1-4962-4780-834e-902c7cd982a9"
      },
      "execution_count": 40,
      "outputs": [
        {
          "output_type": "stream",
          "name": "stdout",
          "text": [
            "['CFZVoy3lZoEukTx721' 'C814KJBoSDegQVGb6' 'CbHSc929pVYbpepBa2' ...\n",
            " 'Cx0tQr1vKroDrlnVn3' 'CqyPY2mOp6cW0MEog' 'CbeRPh2Mqp309v5BQb']\n",
            " \n",
            "-- Detected Malign UID Values --\n",
            " \n",
            "- IFOREST Results -\n",
            "Detected Positives: 26\n",
            "False Positives:  30312\n",
            "Undetected Malign: 6375\n",
            " \n",
            "- COPOD Results -\n",
            "Detected Positives: 120\n",
            "False Positives:  30218\n",
            "Undetected Malign: 6281\n",
            " \n",
            "- ECOD Results -\n",
            "Detected Positives: 1904\n",
            "False Positives:  28434\n",
            "Undetected Malign: 4497\n",
            " \n"
          ]
        }
      ]
    },
    {
      "cell_type": "code",
      "source": [
        "# -- Detección utilzando el valor de 'FlowID'\n",
        "# Unique Malign FlowID Values\n",
        "malign_conn_df['flow_id'] = malign_conn_df['protocol'].astype(str) + malign_conn_df['sourceAddress'].astype(str) + malign_conn_df['destinationAddress'].astype(str) + malign_conn_df['sourcePort'].astype(str) + malign_conn_df['destinationPort'].astype(str)\n",
        "malign_conn_flow_id_values = malign_conn_df['flow_id'].unique()\n",
        "detected_positives = 0\n",
        "\n",
        "print(' ')\n",
        "print('-- Detected Malign Flow id Values --')\n",
        "print(' ')\n",
        "\n",
        "# Detected Malign FlowID Values\n",
        "for i in range (0, len(clf_names)):\n",
        "    if i == 0:\n",
        "        for flow_id in IFOREST_flow_id_values:\n",
        "            # Check if the concatenated value is in the list of ip_src_dest values\n",
        "            if flow_id in malign_conn_flow_id_values:\n",
        "                detected_positives+=1\n",
        "        print('- IFOREST Results -')\n",
        "        print('Detected Positives:', detected_positives)\n",
        "        print('False Positives: ', len(IFOREST_flow_id_values) - detected_positives)\n",
        "        print('Undetected Malign:', len(malign_conn_flow_id_values) - detected_positives)\n",
        "        print(' ')\n",
        "\n",
        "    if i == 1:\n",
        "        for flow_id in COPOD_flow_id_values:\n",
        "            # Check if the concatenated value is in the list of ip_src_dest values\n",
        "            if flow_id in malign_conn_flow_id_values:\n",
        "                detected_positives+=1\n",
        "        print('- COPOD Results -')\n",
        "        print('Detected Positives:', detected_positives)\n",
        "        print('False Positives: ', len(COPOD_flow_id_values) - detected_positives)\n",
        "        print('Undetected Malign:', len(malign_conn_flow_id_values) - detected_positives)\n",
        "        print(' ')\n",
        "\n",
        "    if i == 2:\n",
        "        for flow_id in ECOD_flow_id_values:\n",
        "            # Check if the concatenated value is in the list of ip_src_dest values\n",
        "            if flow_id in malign_conn_flow_id_values:\n",
        "                detected_positives+=1\n",
        "        print('- ECOD Results -')\n",
        "        print('Detected Positives:', detected_positives)\n",
        "        print('False Positives: ', len(ECOD_flow_id_values) - detected_positives)\n",
        "        print('Undetected Malign:', len(malign_conn_flow_id_values) - detected_positives)\n",
        "        print(' ')\n"
      ],
      "metadata": {
        "colab": {
          "base_uri": "https://localhost:8080/"
        },
        "id": "w7D9yccnF3OA",
        "outputId": "bc33d2a1-4d37-4e8c-c499-b854dce6a962"
      },
      "execution_count": 42,
      "outputs": [
        {
          "output_type": "stream",
          "name": "stderr",
          "text": [
            "<ipython-input-42-63031f45e141>:4: SettingWithCopyWarning: \n",
            "A value is trying to be set on a copy of a slice from a DataFrame.\n",
            "Try using .loc[row_indexer,col_indexer] = value instead\n",
            "\n",
            "See the caveats in the documentation: https://pandas.pydata.org/pandas-docs/stable/user_guide/indexing.html#returning-a-view-versus-a-copy\n",
            "  malign_conn_df['flow_id'] = malign_conn_df['protocol'].astype(str) + malign_conn_df['sourceAddress'].astype(str) + malign_conn_df['destinationAddress'].astype(str) + malign_conn_df['sourcePort'].astype(str) + malign_conn_df['destinationPort'].astype(str)\n"
          ]
        },
        {
          "output_type": "stream",
          "name": "stdout",
          "text": [
            " \n",
            "-- Detected Malign Flow id Values --\n",
            " \n",
            "- IFOREST Results -\n",
            "Detected Positives: 26\n",
            "False Positives:  29497\n",
            "Undetected Malign: 6375\n",
            " \n",
            "- COPOD Results -\n",
            "Detected Positives: 120\n",
            "False Positives:  29246\n",
            "Undetected Malign: 6281\n",
            " \n",
            "- ECOD Results -\n",
            "Detected Positives: 1904\n",
            "False Positives:  27406\n",
            "Undetected Malign: 4497\n",
            " \n"
          ]
        }
      ]
    },
    {
      "cell_type": "markdown",
      "source": [
        "### PRUEBA DE CLUSTERING - PROYECCION TSNE ###"
      ],
      "metadata": {
        "id": "GXf8zYafiFec"
      }
    },
    {
      "cell_type": "code",
      "source": [
        "to_matrix = DataFrameToMatrix();\n",
        "conn_feature_matrix = to_matrix.fit_transform(conn_features_df, normalize=True);\n",
        "conn_feature_matrix.shape\n",
        "\n",
        "# Now try DBScan\n",
        "conn_features_df['cluster_db'] = DBSCAN().fit_predict(conn_feature_matrix)\n",
        "print('Number of Clusters: {:d}'.format(conn_df['cluster_db'].nunique()))"
      ],
      "metadata": {
        "colab": {
          "base_uri": "https://localhost:8080/"
        },
        "id": "j151ubMdiFLb",
        "outputId": "fc9f064e-35a2-4d41-96da-c27f70dcac56"
      },
      "execution_count": null,
      "outputs": [
        {
          "output_type": "stream",
          "name": "stdout",
          "text": [
            "Normalizing column service...\n",
            "Normalizing column duration...\n",
            "Normalizing column orig_bytes...\n",
            "Normalizing column resp_bytes...\n",
            "Normalizing column conn_state...\n",
            "Normalizing column history...\n",
            "Normalizing column orig_pkts...\n",
            "Normalizing column orig_ip_bytes...\n",
            "Normalizing column resp_pkts...\n",
            "Normalizing column resp_ip_bytes...\n",
            "Normalizing column tunnel_parents...\n",
            "Cannot normalize series (div by 0) so not normalizing...\n",
            "Normalizing column mediaOrigen...\n",
            "Normalizing column mediaResp...\n",
            "Normalizing column desvOrigen...\n",
            "Normalizing column desvResp...\n",
            "Normalizing column noceroOrigen...\n",
            "Normalizing column noceroResp...\n",
            "Normalizing column mediaTime...\n",
            "Normalizing column desvTime...\n"
          ]
        }
      ]
    },
    {
      "cell_type": "code",
      "source": [
        "# Now use dataframe group by cluster\n",
        "cluster_groups_db = conn_df.groupby('cluster_db')\n",
        "\n",
        "# Projection using TSNE or PCA algorithm\n",
        "projection = TSNE().fit_transform(conn_feature_matrix);\n",
        "\n",
        "conn_df['x'] = projection[:, 0]; # Projection X Column\n",
        "conn_df['y'] = projection[:, 1]; # Projection Y Column\n",
        "\n",
        "\n",
        "colors = {-1:'green', 0:'blue', 2:'yellow'}\n",
        "\n",
        "# Plot the Machine Learning results\n",
        "fig, ax = plt.subplots()\n",
        "for key, group in cluster_groups_db:\n",
        "    group.plot(ax=ax, kind='scatter', x='x', y='y', alpha=0.5, s=250,\n",
        "               label='Cluster_DB: {:d}'.format(key), color=colors[key])"
      ],
      "metadata": {
        "id": "xKpVz19aidX6"
      },
      "execution_count": null,
      "outputs": []
    },
    {
      "cell_type": "code",
      "source": [
        "# Now print out the details for each cluster\n",
        "pd.set_option('display.width', 1000)\n",
        "for key, group in cluster_groups:\n",
        "    print('\\nCluster {:d}: {:d} observations'.format(key, len(group)))\n",
        "    print(group[features].head())"
      ],
      "metadata": {
        "id": "ol4gcU2fif6h"
      },
      "execution_count": null,
      "outputs": []
    },
    {
      "cell_type": "code",
      "source": [
        "#X = conn_df.drop('uid', axis=1) # Replace 'label_column' with the name of the column containing the labels\n",
        "#X = X.drop('sourceAddress', axis=1)\n",
        "#X = X.drop('sourcePort', axis=1)\n",
        "#X = X.drop('destinationAddress', axis=1)\n",
        "#X = X.drop('destinationPort', axis=1)\n",
        "\n",
        "X = conn_features_df\n",
        "rows_to_drop = int(len(X) * 0.75)\n",
        "X = X.iloc[rows_to_drop:]\n",
        "y = conn_df['uid']\n",
        "\n",
        "# Initialize the t-SNE algorithm with the desired parameters\n",
        "tsne = TSNE(n_components=2, random_state=42)\n",
        "\n",
        "# Apply t-SNE to the features\n",
        "X_tsne = tsne.fit_transform(X)\n",
        "\n",
        "# Visualize the t-SNE projection in a scatter plot\n",
        "plt.scatter(X_tsne[:, 0], X_tsne[:, 1])\n",
        "plt.title('t-SNE projection')\n",
        "plt.show()"
      ],
      "metadata": {
        "colab": {
          "base_uri": "https://localhost:8080/",
          "height": 1000
        },
        "id": "m9JJpdnsjtqs",
        "outputId": "ad279bd7-0e69-4692-a9cc-5ebdc2c9d04b"
      },
      "execution_count": 15,
      "outputs": [
        {
          "output_type": "stream",
          "name": "stderr",
          "text": [
            "/usr/local/lib/python3.8/dist-packages/sklearn/manifold/_t_sne.py:780: FutureWarning: The default initialization in TSNE will change from 'random' to 'pca' in 1.2.\n",
            "  warnings.warn(\n",
            "/usr/local/lib/python3.8/dist-packages/sklearn/manifold/_t_sne.py:790: FutureWarning: The default learning rate in TSNE will change from 200.0 to 'auto' in 1.2.\n",
            "  warnings.warn(\n"
          ]
        },
        {
          "output_type": "error",
          "ename": "ValueError",
          "evalue": "ignored",
          "traceback": [
            "\u001b[0;31m---------------------------------------------------------------------------\u001b[0m",
            "\u001b[0;31mValueError\u001b[0m                                Traceback (most recent call last)",
            "\u001b[0;32m/usr/local/lib/python3.8/dist-packages/matplotlib/axes/_axes.py\u001b[0m in \u001b[0;36m_parse_scatter_color_args\u001b[0;34m(c, edgecolors, kwargs, xsize, get_next_color_func)\u001b[0m\n\u001b[1;32m   4219\u001b[0m             \u001b[0;32mtry\u001b[0m\u001b[0;34m:\u001b[0m  \u001b[0;31m# Is 'c' acceptable as PathCollection facecolors?\u001b[0m\u001b[0;34m\u001b[0m\u001b[0;34m\u001b[0m\u001b[0m\n\u001b[0;32m-> 4220\u001b[0;31m                 \u001b[0mcolors\u001b[0m \u001b[0;34m=\u001b[0m \u001b[0mmcolors\u001b[0m\u001b[0;34m.\u001b[0m\u001b[0mto_rgba_array\u001b[0m\u001b[0;34m(\u001b[0m\u001b[0mc\u001b[0m\u001b[0;34m)\u001b[0m\u001b[0;34m\u001b[0m\u001b[0;34m\u001b[0m\u001b[0m\n\u001b[0m\u001b[1;32m   4221\u001b[0m             \u001b[0;32mexcept\u001b[0m \u001b[0;34m(\u001b[0m\u001b[0mTypeError\u001b[0m\u001b[0;34m,\u001b[0m \u001b[0mValueError\u001b[0m\u001b[0;34m)\u001b[0m \u001b[0;32mas\u001b[0m \u001b[0merr\u001b[0m\u001b[0;34m:\u001b[0m\u001b[0;34m\u001b[0m\u001b[0;34m\u001b[0m\u001b[0m\n",
            "\u001b[0;32m/usr/local/lib/python3.8/dist-packages/matplotlib/colors.py\u001b[0m in \u001b[0;36mto_rgba_array\u001b[0;34m(c, alpha)\u001b[0m\n\u001b[1;32m    376\u001b[0m     \u001b[0;32melse\u001b[0m\u001b[0;34m:\u001b[0m\u001b[0;34m\u001b[0m\u001b[0;34m\u001b[0m\u001b[0m\n\u001b[0;32m--> 377\u001b[0;31m         \u001b[0mrgba\u001b[0m \u001b[0;34m=\u001b[0m \u001b[0mnp\u001b[0m\u001b[0;34m.\u001b[0m\u001b[0marray\u001b[0m\u001b[0;34m(\u001b[0m\u001b[0;34m[\u001b[0m\u001b[0mto_rgba\u001b[0m\u001b[0;34m(\u001b[0m\u001b[0mcc\u001b[0m\u001b[0;34m)\u001b[0m \u001b[0;32mfor\u001b[0m \u001b[0mcc\u001b[0m \u001b[0;32min\u001b[0m \u001b[0mc\u001b[0m\u001b[0;34m]\u001b[0m\u001b[0;34m)\u001b[0m\u001b[0;34m\u001b[0m\u001b[0;34m\u001b[0m\u001b[0m\n\u001b[0m\u001b[1;32m    378\u001b[0m \u001b[0;34m\u001b[0m\u001b[0m\n",
            "\u001b[0;32m/usr/local/lib/python3.8/dist-packages/matplotlib/colors.py\u001b[0m in \u001b[0;36m<listcomp>\u001b[0;34m(.0)\u001b[0m\n\u001b[1;32m    376\u001b[0m     \u001b[0;32melse\u001b[0m\u001b[0;34m:\u001b[0m\u001b[0;34m\u001b[0m\u001b[0;34m\u001b[0m\u001b[0m\n\u001b[0;32m--> 377\u001b[0;31m         \u001b[0mrgba\u001b[0m \u001b[0;34m=\u001b[0m \u001b[0mnp\u001b[0m\u001b[0;34m.\u001b[0m\u001b[0marray\u001b[0m\u001b[0;34m(\u001b[0m\u001b[0;34m[\u001b[0m\u001b[0mto_rgba\u001b[0m\u001b[0;34m(\u001b[0m\u001b[0mcc\u001b[0m\u001b[0;34m)\u001b[0m \u001b[0;32mfor\u001b[0m \u001b[0mcc\u001b[0m \u001b[0;32min\u001b[0m \u001b[0mc\u001b[0m\u001b[0;34m]\u001b[0m\u001b[0;34m)\u001b[0m\u001b[0;34m\u001b[0m\u001b[0;34m\u001b[0m\u001b[0m\n\u001b[0m\u001b[1;32m    378\u001b[0m \u001b[0;34m\u001b[0m\u001b[0m\n",
            "\u001b[0;32m/usr/local/lib/python3.8/dist-packages/matplotlib/colors.py\u001b[0m in \u001b[0;36mto_rgba\u001b[0;34m(c, alpha)\u001b[0m\n\u001b[1;32m    186\u001b[0m     \u001b[0;32mif\u001b[0m \u001b[0mrgba\u001b[0m \u001b[0;32mis\u001b[0m \u001b[0;32mNone\u001b[0m\u001b[0;34m:\u001b[0m  \u001b[0;31m# Suppress exception chaining of cache lookup failure.\u001b[0m\u001b[0;34m\u001b[0m\u001b[0;34m\u001b[0m\u001b[0m\n\u001b[0;32m--> 187\u001b[0;31m         \u001b[0mrgba\u001b[0m \u001b[0;34m=\u001b[0m \u001b[0m_to_rgba_no_colorcycle\u001b[0m\u001b[0;34m(\u001b[0m\u001b[0mc\u001b[0m\u001b[0;34m,\u001b[0m \u001b[0malpha\u001b[0m\u001b[0;34m)\u001b[0m\u001b[0;34m\u001b[0m\u001b[0;34m\u001b[0m\u001b[0m\n\u001b[0m\u001b[1;32m    188\u001b[0m         \u001b[0;32mtry\u001b[0m\u001b[0;34m:\u001b[0m\u001b[0;34m\u001b[0m\u001b[0;34m\u001b[0m\u001b[0m\n",
            "\u001b[0;32m/usr/local/lib/python3.8/dist-packages/matplotlib/colors.py\u001b[0m in \u001b[0;36m_to_rgba_no_colorcycle\u001b[0;34m(c, alpha)\u001b[0m\n\u001b[1;32m    261\u001b[0m             \u001b[0;32mreturn\u001b[0m \u001b[0mc\u001b[0m\u001b[0;34m,\u001b[0m \u001b[0mc\u001b[0m\u001b[0;34m,\u001b[0m \u001b[0mc\u001b[0m\u001b[0;34m,\u001b[0m \u001b[0malpha\u001b[0m \u001b[0;32mif\u001b[0m \u001b[0malpha\u001b[0m \u001b[0;32mis\u001b[0m \u001b[0;32mnot\u001b[0m \u001b[0;32mNone\u001b[0m \u001b[0;32melse\u001b[0m \u001b[0;36m1.\u001b[0m\u001b[0;34m\u001b[0m\u001b[0;34m\u001b[0m\u001b[0m\n\u001b[0;32m--> 262\u001b[0;31m         \u001b[0;32mraise\u001b[0m \u001b[0mValueError\u001b[0m\u001b[0;34m(\u001b[0m\u001b[0;34mf\"Invalid RGBA argument: {orig_c!r}\"\u001b[0m\u001b[0;34m)\u001b[0m\u001b[0;34m\u001b[0m\u001b[0;34m\u001b[0m\u001b[0m\n\u001b[0m\u001b[1;32m    263\u001b[0m     \u001b[0;31m# turn 2-D array into 1-D array\u001b[0m\u001b[0;34m\u001b[0m\u001b[0;34m\u001b[0m\u001b[0;34m\u001b[0m\u001b[0m\n",
            "\u001b[0;31mValueError\u001b[0m: Invalid RGBA argument: 'CitfCnXrG2frn82q1'",
            "\nThe above exception was the direct cause of the following exception:\n",
            "\u001b[0;31mValueError\u001b[0m                                Traceback (most recent call last)",
            "\u001b[0;32m<ipython-input-15-23f59c9de7c1>\u001b[0m in \u001b[0;36m<module>\u001b[0;34m\u001b[0m\n\u001b[1;32m     16\u001b[0m \u001b[0;34m\u001b[0m\u001b[0m\n\u001b[1;32m     17\u001b[0m \u001b[0;31m# Visualize the t-SNE projection in a scatter plot\u001b[0m\u001b[0;34m\u001b[0m\u001b[0;34m\u001b[0m\u001b[0;34m\u001b[0m\u001b[0m\n\u001b[0;32m---> 18\u001b[0;31m \u001b[0mplt\u001b[0m\u001b[0;34m.\u001b[0m\u001b[0mscatter\u001b[0m\u001b[0;34m(\u001b[0m\u001b[0mX_tsne\u001b[0m\u001b[0;34m[\u001b[0m\u001b[0;34m:\u001b[0m\u001b[0;34m,\u001b[0m \u001b[0;36m0\u001b[0m\u001b[0;34m]\u001b[0m\u001b[0;34m,\u001b[0m \u001b[0mX_tsne\u001b[0m\u001b[0;34m[\u001b[0m\u001b[0;34m:\u001b[0m\u001b[0;34m,\u001b[0m \u001b[0;36m1\u001b[0m\u001b[0;34m]\u001b[0m\u001b[0;34m,\u001b[0m \u001b[0mc\u001b[0m\u001b[0;34m=\u001b[0m\u001b[0my\u001b[0m\u001b[0;34m)\u001b[0m\u001b[0;34m\u001b[0m\u001b[0;34m\u001b[0m\u001b[0m\n\u001b[0m\u001b[1;32m     19\u001b[0m \u001b[0mplt\u001b[0m\u001b[0;34m.\u001b[0m\u001b[0mtitle\u001b[0m\u001b[0;34m(\u001b[0m\u001b[0;34m't-SNE projection'\u001b[0m\u001b[0;34m)\u001b[0m\u001b[0;34m\u001b[0m\u001b[0;34m\u001b[0m\u001b[0m\n\u001b[1;32m     20\u001b[0m \u001b[0mplt\u001b[0m\u001b[0;34m.\u001b[0m\u001b[0mshow\u001b[0m\u001b[0;34m(\u001b[0m\u001b[0;34m)\u001b[0m\u001b[0;34m\u001b[0m\u001b[0;34m\u001b[0m\u001b[0m\n",
            "\u001b[0;32m/usr/local/lib/python3.8/dist-packages/matplotlib/pyplot.py\u001b[0m in \u001b[0;36mscatter\u001b[0;34m(x, y, s, c, marker, cmap, norm, vmin, vmax, alpha, linewidths, edgecolors, plotnonfinite, data, **kwargs)\u001b[0m\n\u001b[1;32m   2815\u001b[0m         \u001b[0mvmin\u001b[0m\u001b[0;34m=\u001b[0m\u001b[0;32mNone\u001b[0m\u001b[0;34m,\u001b[0m \u001b[0mvmax\u001b[0m\u001b[0;34m=\u001b[0m\u001b[0;32mNone\u001b[0m\u001b[0;34m,\u001b[0m \u001b[0malpha\u001b[0m\u001b[0;34m=\u001b[0m\u001b[0;32mNone\u001b[0m\u001b[0;34m,\u001b[0m \u001b[0mlinewidths\u001b[0m\u001b[0;34m=\u001b[0m\u001b[0;32mNone\u001b[0m\u001b[0;34m,\u001b[0m \u001b[0;34m*\u001b[0m\u001b[0;34m,\u001b[0m\u001b[0;34m\u001b[0m\u001b[0;34m\u001b[0m\u001b[0m\n\u001b[1;32m   2816\u001b[0m         edgecolors=None, plotnonfinite=False, data=None, **kwargs):\n\u001b[0;32m-> 2817\u001b[0;31m     __ret = gca().scatter(\n\u001b[0m\u001b[1;32m   2818\u001b[0m         \u001b[0mx\u001b[0m\u001b[0;34m,\u001b[0m \u001b[0my\u001b[0m\u001b[0;34m,\u001b[0m \u001b[0ms\u001b[0m\u001b[0;34m=\u001b[0m\u001b[0ms\u001b[0m\u001b[0;34m,\u001b[0m \u001b[0mc\u001b[0m\u001b[0;34m=\u001b[0m\u001b[0mc\u001b[0m\u001b[0;34m,\u001b[0m \u001b[0mmarker\u001b[0m\u001b[0;34m=\u001b[0m\u001b[0mmarker\u001b[0m\u001b[0;34m,\u001b[0m \u001b[0mcmap\u001b[0m\u001b[0;34m=\u001b[0m\u001b[0mcmap\u001b[0m\u001b[0;34m,\u001b[0m \u001b[0mnorm\u001b[0m\u001b[0;34m=\u001b[0m\u001b[0mnorm\u001b[0m\u001b[0;34m,\u001b[0m\u001b[0;34m\u001b[0m\u001b[0;34m\u001b[0m\u001b[0m\n\u001b[1;32m   2819\u001b[0m         \u001b[0mvmin\u001b[0m\u001b[0;34m=\u001b[0m\u001b[0mvmin\u001b[0m\u001b[0;34m,\u001b[0m \u001b[0mvmax\u001b[0m\u001b[0;34m=\u001b[0m\u001b[0mvmax\u001b[0m\u001b[0;34m,\u001b[0m \u001b[0malpha\u001b[0m\u001b[0;34m=\u001b[0m\u001b[0malpha\u001b[0m\u001b[0;34m,\u001b[0m \u001b[0mlinewidths\u001b[0m\u001b[0;34m=\u001b[0m\u001b[0mlinewidths\u001b[0m\u001b[0;34m,\u001b[0m\u001b[0;34m\u001b[0m\u001b[0;34m\u001b[0m\u001b[0m\n",
            "\u001b[0;32m/usr/local/lib/python3.8/dist-packages/matplotlib/__init__.py\u001b[0m in \u001b[0;36minner\u001b[0;34m(ax, data, *args, **kwargs)\u001b[0m\n\u001b[1;32m   1412\u001b[0m     \u001b[0;32mdef\u001b[0m \u001b[0minner\u001b[0m\u001b[0;34m(\u001b[0m\u001b[0max\u001b[0m\u001b[0;34m,\u001b[0m \u001b[0;34m*\u001b[0m\u001b[0margs\u001b[0m\u001b[0;34m,\u001b[0m \u001b[0mdata\u001b[0m\u001b[0;34m=\u001b[0m\u001b[0;32mNone\u001b[0m\u001b[0;34m,\u001b[0m \u001b[0;34m**\u001b[0m\u001b[0mkwargs\u001b[0m\u001b[0;34m)\u001b[0m\u001b[0;34m:\u001b[0m\u001b[0;34m\u001b[0m\u001b[0;34m\u001b[0m\u001b[0m\n\u001b[1;32m   1413\u001b[0m         \u001b[0;32mif\u001b[0m \u001b[0mdata\u001b[0m \u001b[0;32mis\u001b[0m \u001b[0;32mNone\u001b[0m\u001b[0;34m:\u001b[0m\u001b[0;34m\u001b[0m\u001b[0;34m\u001b[0m\u001b[0m\n\u001b[0;32m-> 1414\u001b[0;31m             \u001b[0;32mreturn\u001b[0m \u001b[0mfunc\u001b[0m\u001b[0;34m(\u001b[0m\u001b[0max\u001b[0m\u001b[0;34m,\u001b[0m \u001b[0;34m*\u001b[0m\u001b[0mmap\u001b[0m\u001b[0;34m(\u001b[0m\u001b[0msanitize_sequence\u001b[0m\u001b[0;34m,\u001b[0m \u001b[0margs\u001b[0m\u001b[0;34m)\u001b[0m\u001b[0;34m,\u001b[0m \u001b[0;34m**\u001b[0m\u001b[0mkwargs\u001b[0m\u001b[0;34m)\u001b[0m\u001b[0;34m\u001b[0m\u001b[0;34m\u001b[0m\u001b[0m\n\u001b[0m\u001b[1;32m   1415\u001b[0m \u001b[0;34m\u001b[0m\u001b[0m\n\u001b[1;32m   1416\u001b[0m         \u001b[0mbound\u001b[0m \u001b[0;34m=\u001b[0m \u001b[0mnew_sig\u001b[0m\u001b[0;34m.\u001b[0m\u001b[0mbind\u001b[0m\u001b[0;34m(\u001b[0m\u001b[0max\u001b[0m\u001b[0;34m,\u001b[0m \u001b[0;34m*\u001b[0m\u001b[0margs\u001b[0m\u001b[0;34m,\u001b[0m \u001b[0;34m**\u001b[0m\u001b[0mkwargs\u001b[0m\u001b[0;34m)\u001b[0m\u001b[0;34m\u001b[0m\u001b[0;34m\u001b[0m\u001b[0m\n",
            "\u001b[0;32m/usr/local/lib/python3.8/dist-packages/matplotlib/axes/_axes.py\u001b[0m in \u001b[0;36mscatter\u001b[0;34m(self, x, y, s, c, marker, cmap, norm, vmin, vmax, alpha, linewidths, edgecolors, plotnonfinite, **kwargs)\u001b[0m\n\u001b[1;32m   4384\u001b[0m             \u001b[0morig_edgecolor\u001b[0m \u001b[0;34m=\u001b[0m \u001b[0mkwargs\u001b[0m\u001b[0;34m.\u001b[0m\u001b[0mget\u001b[0m\u001b[0;34m(\u001b[0m\u001b[0;34m'edgecolor'\u001b[0m\u001b[0;34m,\u001b[0m \u001b[0;32mNone\u001b[0m\u001b[0;34m)\u001b[0m\u001b[0;34m\u001b[0m\u001b[0;34m\u001b[0m\u001b[0m\n\u001b[1;32m   4385\u001b[0m         \u001b[0mc\u001b[0m\u001b[0;34m,\u001b[0m \u001b[0mcolors\u001b[0m\u001b[0;34m,\u001b[0m \u001b[0medgecolors\u001b[0m \u001b[0;34m=\u001b[0m\u001b[0;31m \u001b[0m\u001b[0;31m\\\u001b[0m\u001b[0;34m\u001b[0m\u001b[0;34m\u001b[0m\u001b[0m\n\u001b[0;32m-> 4386\u001b[0;31m             self._parse_scatter_color_args(\n\u001b[0m\u001b[1;32m   4387\u001b[0m                 \u001b[0mc\u001b[0m\u001b[0;34m,\u001b[0m \u001b[0medgecolors\u001b[0m\u001b[0;34m,\u001b[0m \u001b[0mkwargs\u001b[0m\u001b[0;34m,\u001b[0m \u001b[0mx\u001b[0m\u001b[0;34m.\u001b[0m\u001b[0msize\u001b[0m\u001b[0;34m,\u001b[0m\u001b[0;34m\u001b[0m\u001b[0;34m\u001b[0m\u001b[0m\n\u001b[1;32m   4388\u001b[0m                 get_next_color_func=self._get_patches_for_fill.get_next_color)\n",
            "\u001b[0;32m/usr/local/lib/python3.8/dist-packages/matplotlib/axes/_axes.py\u001b[0m in \u001b[0;36m_parse_scatter_color_args\u001b[0;34m(c, edgecolors, kwargs, xsize, get_next_color_func)\u001b[0m\n\u001b[1;32m   4227\u001b[0m                     \u001b[0;31m# Both the mapping *and* the RGBA conversion failed: pretty\u001b[0m\u001b[0;34m\u001b[0m\u001b[0;34m\u001b[0m\u001b[0;34m\u001b[0m\u001b[0m\n\u001b[1;32m   4228\u001b[0m                     \u001b[0;31m# severe failure => one may appreciate a verbose feedback.\u001b[0m\u001b[0;34m\u001b[0m\u001b[0;34m\u001b[0m\u001b[0;34m\u001b[0m\u001b[0m\n\u001b[0;32m-> 4229\u001b[0;31m                     raise ValueError(\n\u001b[0m\u001b[1;32m   4230\u001b[0m                         \u001b[0;34mf\"'c' argument must be a color, a sequence of colors, \"\u001b[0m\u001b[0;34m\u001b[0m\u001b[0;34m\u001b[0m\u001b[0m\n\u001b[1;32m   4231\u001b[0m                         f\"or a sequence of numbers, not {c}\") from err\n",
            "\u001b[0;31mValueError\u001b[0m: 'c' argument must be a color, a sequence of colors, or a sequence of numbers, not ts\n2017-07-04 11:54:10     CitfCnXrG2frn82q1\n2017-07-04 11:54:10    CG2s373dy2xLuQHo4i\n2017-07-04 11:54:10     CPPnbC4JH8pmWPTwk\n2017-07-04 11:54:10    CIAfXL2rRKgcoCYMv7\n2017-07-04 11:54:10    CVvauO2RvMzVxF5RQi\n                              ...        \n2017-07-04 19:43:57    CxJGCV2WTmtryhvRHj\n2017-07-04 19:43:57    CmuFnN1sW41hjsFV22\n2017-07-04 19:43:56    CbIm2b25F1iDaxXjgj\n2017-07-04 18:07:48    Cl9fZA49H5rRoO9MH2\n2017-07-04 16:03:19    CN8zxw2eYBeW6L8bkl\nName: uid, Length: 303380, dtype: object"
          ]
        },
        {
          "output_type": "display_data",
          "data": {
            "text/plain": [
              "<Figure size 432x288 with 1 Axes>"
            ],
            "image/png": "[encoded data removed]"
          },
          "metadata": {
            "needs_background": "light"
          }
        }
      ]
    },
    {
      "cell_type": "code",
      "source": [
        "\n",
        "# Visualize the t-SNE projection in a scatter plot\n",
        "plt.scatter(X_tsne[:, 0], X_tsne[:, 1])\n",
        "plt.title('t-SNE projection')\n",
        "plt.show()"
      ],
      "metadata": {
        "colab": {
          "base_uri": "https://localhost:8080/",
          "height": 281
        },
        "id": "Zu2YHOLF4RWo",
        "outputId": "1296086f-797f-44be-cf4b-751a31c47f3f"
      },
      "execution_count": 16,
      "outputs": [
        {
          "output_type": "display_data",
          "data": {
            "text/plain": [
              "<Figure size 432x288 with 1 Axes>"
            ],
            "image/png": "[encoded data removed]"
          },
          "metadata": {
            "needs_background": "light"
          }
        }
      ]
    }
  ]
}
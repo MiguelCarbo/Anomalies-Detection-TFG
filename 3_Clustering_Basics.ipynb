{
  "nbformat": 4,
  "nbformat_minor": 0,
  "metadata": {
    "colab": {
      "provenance": [],
      "authorship_tag": "ABX9TyPTu22rJ+KWpIs+c0eRjmjM",
      "include_colab_link": true
    },
    "kernelspec": {
      "name": "python3",
      "display_name": "Python 3"
    },
    "language_info": {
      "name": "python"
    },
    "accelerator": "GPU",
    "gpuClass": "standard"
  },
  "cells": [
    {
      "cell_type": "markdown",
      "metadata": {
        "id": "view-in-github",
        "colab_type": "text"
      },
      "source": [
        "<a href=\"https://colab.research.google.com/github/MiguelCarbo/Anomalies-Detection-TFG/blob/main/3_Clustering_Basics.ipynb\" target=\"_parent\"><img src=\"https://colab.research.google.com/assets/colab-badge.svg\" alt=\"Open In Colab\"/></a>"
      ]
    },
    {
      "cell_type": "markdown",
      "source": [
        "# TFG - NON SUPERVISED LEARNING\n",
        "## CLUSTERING\n",
        "### Miguel Ivars Carbó, 795802@unizar.es\n",
        "---\n",
        "*Primer acercamiento al TFG.*  \n",
        "*Se pretende implementar en este script, un mecanismo sencillo que permita implementar la técnica de Clustering como forma de análisis no supervisado y realizar así los primeros test dentro del marco de trabajo.*\n"
      ],
      "metadata": {
        "id": "909sQ5tq0ikk"
      }
    },
    {
      "cell_type": "code",
      "source": [
        "# Reset Variables\n",
        "%reset"
      ],
      "metadata": {
        "colab": {
          "base_uri": "https://localhost:8080/"
        },
        "id": "5WfarA5HDfw5",
        "outputId": "1940dd24-5ec8-492e-bcef-039ee914b2a4"
      },
      "execution_count": null,
      "outputs": [
        {
          "name": "stdout",
          "output_type": "stream",
          "text": [
            "Once deleted, variables cannot be recovered. Proceed (y/[n])? y\n"
          ]
        }
      ]
    },
    {
      "cell_type": "code",
      "source": [
        "# Packet Unzipping\n",
        "!unzip zat.zip;\n",
        "\n",
        "# Third Packet Imports\n",
        "import pandas as pd;\n",
        "import numpy as np;\n",
        "import sklearn;\n",
        "from sklearn.manifold import TSNE;\n",
        "from sklearn.discriminant_analysis import LinearDiscriminantAnalysis;\n",
        "from sklearn.cluster import KMeans, DBSCAN;\n",
        "\n",
        "# Local imports\n",
        "import zat;\n",
        "from zat.log_to_dataframe import LogToDataFrame;\n",
        "from zat.dataframe_to_matrix import DataFrameToMatrix;\n",
        "\n",
        "# Good to print out versions of stuff\n",
        "print('ZAT: {:s}'.format(zat.__version__))\n",
        "print('Pandas: {:s}'.format(pd.__version__))\n",
        "print('Scikit Learn Version:', sklearn.__version__)"
      ],
      "metadata": {
        "id": "m37W463F2Fmx"
      },
      "execution_count": null,
      "outputs": []
    },
    {
      "cell_type": "markdown",
      "source": [
        "### 1. CHOOSING LOG TO CREATE DATAFRAME FROM ###"
      ],
      "metadata": {
        "id": "3l1WwFBus6hy"
      }
    },
    {
      "cell_type": "code",
      "source": [
        "# Create a Pandas dataframe from the Zeek log\n",
        "log_to_df = LogToDataFrame();\n",
        "conn_df = log_to_df.create_dataframe('conn.log');\n",
        "conn_df.columns"
      ],
      "metadata": {
        "colab": {
          "base_uri": "https://localhost:8080/"
        },
        "id": "A4L4xTG74wmP",
        "outputId": "0f992d8a-2fd2-4e11-ee7a-cba4ccd3d3a1"
      },
      "execution_count": null,
      "outputs": [
        {
          "output_type": "execute_result",
          "data": {
            "text/plain": [
              "Index(['uid', 'id.orig_h', 'id.orig_p', 'id.resp_h', 'id.resp_p', 'proto',\n",
              "       'service', 'duration', 'orig_bytes', 'resp_bytes', 'conn_state',\n",
              "       'local_orig', 'local_resp', 'missed_bytes', 'history', 'orig_pkts',\n",
              "       'orig_ip_bytes', 'resp_pkts', 'resp_ip_bytes', 'tunnel_parents'],\n",
              "      dtype='object')"
            ]
          },
          "metadata": {},
          "execution_count": 3
        }
      ]
    },
    {
      "cell_type": "code",
      "source": [
        "# Different Pandas Commands\n",
        "\n",
        "# conn_df.head()\n",
        "# conn_df.columns\n",
        "# conn_df.index\n",
        "# conn_df['id.orig_h'].head(10) \n",
        "# conn_df.iat[0, 0]                                           # Access element based on location\n",
        "# conn_df.at['2023-02-06 07:54:51.884406016', 'history']      # Access element by label\n",
        "# Al acceder por label, tambien hay que acceder a la fila por 'index' y no por posicion numerica\n",
        "\n",
        "### Importante en PANDAS: filas se numeran por numero '0,1,...n' y por defecto, escoge indexacion por filas (axis = 0) ###\n",
        "# Para marcar indexacion por columnas, hay que marcar axis=1\n",
        "\n",
        "## Drop Colum ##\n",
        "# new_conn_df = conn_df.drop(['uid'],axis=1)           \n",
        "   \n",
        "## Drop Row ##\n",
        "### mucho cuidado si mi index es un timestamp ### \n",
        "# new_conn_df.drop(pd.Timestamp('2023-02-06 07:55:09.972538880'))"
      ],
      "metadata": {
        "id": "fFvN1Z-5E1sm"
      },
      "execution_count": null,
      "outputs": []
    },
    {
      "cell_type": "markdown",
      "source": [
        "#### 2. FEATURE SELECTION ####\n",
        "https://scikit-learn.org/stable/modules/feature_selection.html#feature-selection\n",
        "https://scikit-learn.org/stable/auto_examples/ensemble/plot_forest_importances.html#sphx-glr-auto-examples-ensemble-plot-forest-importances-py"
      ],
      "metadata": {
        "id": "-k3MD2JrtZ6S"
      }
    },
    {
      "cell_type": "markdown",
      "source": [
        "#### 2.1.1  USING A FOREST OF TREES / BASED IN MEAN DECREASE IN IMPURITY ####"
      ],
      "metadata": {
        "id": "bRbG9mX2t1oe"
      }
    },
    {
      "cell_type": "code",
      "source": [
        "## DUDA ##\n",
        "# --- No puedo aplicar tecnicas de seleccion de parametros utilizando RF porque\n",
        "# --- a la hora de entrenar los datos, no tengo 'target' 'y'. Se me queda\n",
        "# --- cojo el modelo y no lo puedo utilizar. \n",
        "# --- ¿En estos caso, el taget qué debería ser?\n",
        "\n",
        "from sklearn.ensemble import ExtraTreesClassifier\n",
        "from sklearn.feature_selection import SelectFromModel\n",
        "from sklearn.utils import Bunch as SKBunch\n",
        "from sklearn.datasets import make_classification\n",
        "from sklearn.model_selection import train_test_split\n",
        "\n",
        "# convert the dataframe to a numpy array\n",
        "np_conn_data = conn_df.to_numpy()\n",
        "\n",
        "# create a scikit-learn dataset\n",
        "sk_dataset = SKBunch(data=np_conn_data, target=None, feature_names=conn_df.columns)\n",
        "X, y = sk_dataset.data, sk_dataset.target\n",
        "X_train, X_test, y_train, y_test = train_test_split(X, y, stratify=y, random_state=42)    \n"
      ],
      "metadata": {
        "id": "m_J4nh_ntscv"
      },
      "execution_count": null,
      "outputs": []
    },
    {
      "cell_type": "markdown",
      "source": [
        "#### 2.1.2 USING CORRELATION FEATURE ANALYSIS ####\n",
        "\n"
      ],
      "metadata": {
        "id": "tpYIKZ6Ozj47"
      }
    },
    {
      "cell_type": "code",
      "source": [
        "conn_df.replace('',0, inplace=True)\n",
        "conn_df.head()\n",
        "conn_df['tunnel_parents'] = conn_df['tunnel_parents'].astype('category')\n",
        "conn_df.drop('local_orig', axis = 1)\n",
        "conn_df.drop('local_resp', axis = 1)\n",
        "# convert the categorical column to int type\n",
        "conn_df['tunnel_parents'] = conn_df['tunnel_parents'].cat.codes\n",
        "conn_df.fillna(0, inplace=True)"
      ],
      "metadata": {
        "id": "_qlzkvnR2Thf"
      },
      "execution_count": null,
      "outputs": []
    },
    {
      "cell_type": "code",
      "source": [
        "conn_df.head(3)\n",
        "\n",
        "# Data Preprocessing\n",
        "label1 = 'duration'\n",
        "label2 = 'orig_bytes'\n",
        "label3 = 'resp_bytes'\n",
        "label4 = 'local_orig'\n",
        "label5 = 'local_resp'\n",
        "label6 = 'missed_bytes'\n",
        "label7 = 'tunnel_parents'\n",
        "\n",
        "# list with feature names (V1, V2, V3, ...)\n",
        "features = conn_df.columns.tolist()\n",
        "features.remove(label1, label2, label3, label4, label5, label6, label7)\n",
        "\n",
        "# change class labeling to 0 and 1\n",
        "conn_df[label1] = np.where( conn_df[label1] > 1, 1, 0)"
      ],
      "metadata": {
        "id": "bX5773RB0_l2"
      },
      "execution_count": null,
      "outputs": []
    },
    {
      "cell_type": "markdown",
      "source": [
        "#### 2.1.3 WITHOUT PRIOR SELECTION #####"
      ],
      "metadata": {
        "id": "RiiKXBrevP32"
      }
    },
    {
      "cell_type": "code",
      "source": [
        "# Pick some features that might be interesting\n",
        "# some of the features are numerical and some are categorical\n",
        "features = ['duration', 'orig_bytes', 'resp_bytes', 'missed_bytes', 'orig_ip_bytes', 'resp_ip_bytes'];"
      ],
      "metadata": {
        "id": "1uerg1WzWNqi"
      },
      "execution_count": null,
      "outputs": []
    },
    {
      "cell_type": "markdown",
      "source": [
        "#### 2.2 MATRIX BUILDING BASED ON FEATURES ####"
      ],
      "metadata": {
        "id": "VOmP4GPUv1TW"
      }
    },
    {
      "cell_type": "code",
      "source": [
        "# Use the DataframeToMatrix class (handles categorical data)\n",
        "# You can see below it uses a heuristic to detect category data. When doing\n",
        "# this for real we should explicitly convert before sending to the transformer.\n",
        "to_matrix = DataFrameToMatrix();\n",
        "conn_feature_matrix = to_matrix.fit_transform(conn_df[features], normalize=True);\n",
        "conn_feature_matrix.shape"
      ],
      "metadata": {
        "colab": {
          "base_uri": "https://localhost:8080/"
        },
        "id": "QwDuQJ5lvWZZ",
        "outputId": "4d6a357c-1c5b-4795-cac0-f692afa53168"
      },
      "execution_count": null,
      "outputs": [
        {
          "output_type": "stream",
          "name": "stdout",
          "text": [
            "Normalizing column duration...\n",
            "Normalizing column orig_bytes...\n",
            "Normalizing column resp_bytes...\n",
            "Normalizing column missed_bytes...\n",
            "Cannot normalize series (div by 0) so not normalizing...\n",
            "Normalizing column orig_ip_bytes...\n",
            "Normalizing column resp_ip_bytes...\n"
          ]
        },
        {
          "output_type": "execute_result",
          "data": {
            "text/plain": [
              "(13825, 6)"
            ]
          },
          "metadata": {},
          "execution_count": 5
        }
      ]
    },
    {
      "cell_type": "markdown",
      "source": [
        "#### 2.3 DATA PREPROCESSING ####"
      ],
      "metadata": {
        "id": "-rKjjdrQv7Td"
      }
    },
    {
      "cell_type": "code",
      "source": [
        "# Find for NaNs in matrix\n",
        "indices = np.argwhere(np.isnan(conn_feature_matrix))\n",
        "# The indices of NaN values\n",
        "print(indices)"
      ],
      "metadata": {
        "id": "lXhGFqzDgong"
      },
      "execution_count": null,
      "outputs": []
    },
    {
      "cell_type": "markdown",
      "source": [
        "#### 2.4 PLOTTING DEFAULTS ####"
      ],
      "metadata": {
        "id": "kPeVsq6cwC_o"
      }
    },
    {
      "cell_type": "code",
      "source": [
        "# Plotting defaults\n",
        "%matplotlib inline\n",
        "import matplotlib.pyplot as plt\n",
        "plt.rcParams['font.size'] = 12.0\n",
        "plt.rcParams['figure.figsize'] = 12.0, 6.0"
      ],
      "metadata": {
        "id": "OtF7xADyXkfC"
      },
      "execution_count": null,
      "outputs": []
    },
    {
      "cell_type": "markdown",
      "source": [
        "### 3. CLUSTERING ###"
      ],
      "metadata": {
        "id": "yivILWZxwHLw"
      }
    },
    {
      "cell_type": "markdown",
      "source": [
        "### 3.1 K-MEANS ###"
      ],
      "metadata": {
        "id": "DzluzU_qwPc0"
      }
    },
    {
      "cell_type": "markdown",
      "source": [
        "#### 3.1.1 SILHOUETTE SCORING ####\n",
        "##### <i> Find most suited value of K </i> #####\n",
        "<i>\"The silhouette value is a measure of how similar an object is to its own cluster (cohesion) compared to other clusters (separation).</i>  \n",
        "\n",
        "<i>The silhouette ranges from -1 to 1, where a high value indicates that the object is well matched to its own cluster and poorly matched to neighboring clusters.</i>  \n",
        "\n",
        "<i>If most objects have a high value, then the clustering configuration is appropriate. If many points have a low or negative value, then the clustering configuration may have too many or too few clusters.\"</i>"
      ],
      "metadata": {
        "id": "M5VHz7rBXr0d"
      }
    },
    {
      "cell_type": "code",
      "source": [
        "from sklearn.metrics import silhouette_score\n",
        "\n",
        "scores = []\n",
        "clusters = range(2,16)\n",
        "\n",
        "for K in clusters:\n",
        "    clusterer = KMeans(n_clusters=K)\n",
        "    cluster_labels = clusterer.fit_predict(conn_feature_matrix)\n",
        "    score = silhouette_score(conn_feature_matrix, cluster_labels)\n",
        "    scores.append(score)\n",
        "\n",
        "# Plot it out\n",
        "pd.DataFrame({'Num Clusters':clusters, 'score':scores}).plot(x='Num Clusters', y='score')"
      ],
      "metadata": {
        "colab": {
          "base_uri": "https://localhost:8080/",
          "height": 465
        },
        "id": "SZv8nMUMYFkl",
        "outputId": "fab193f6-1f2e-48cb-fbac-092ff4e5c5d0"
      },
      "execution_count": null,
      "outputs": [
        {
          "output_type": "execute_result",
          "data": {
            "text/plain": [
              "<matplotlib.axes._subplots.AxesSubplot at 0x7f80ff10f340>"
            ]
          },
          "metadata": {},
          "execution_count": 23
        },
        {
          "output_type": "display_data",
          "data": {
            "text/plain": [
              "<Figure size 1008x504 with 1 Axes>"
            ],
            "image/png": "[encoded data removed]"
          },
          "metadata": {
            "needs_background": "light"
          }
        }
      ]
    },
    {
      "cell_type": "code",
      "source": [
        "# So we know that the highest (closest to 1) silhouette score is at 'm' clusters\n",
        "kmeans_labels = KMeans(n_clusters=3).fit_predict(conn_feature_matrix);\n",
        "\n",
        "# TSNE is a great projection algorithm. In this case we're going from 'n' dimensions to 2\n",
        "projection = TSNE().fit_transform(conn_feature_matrix);\n",
        "\n",
        "# Now we can put our ML results back onto our dataframe!\n",
        "conn_df['cluster'] = kmeans_labels;\n",
        "conn_df['x'] = projection[:, 0]; # Projection X Column\n",
        "conn_df['y'] = projection[:, 1]; # Projection Y Column"
      ],
      "metadata": {
        "colab": {
          "base_uri": "https://localhost:8080/"
        },
        "id": "cEZseCaNYvos",
        "outputId": "49eb003c-c420-4985-d0dc-054bb951e26d"
      },
      "execution_count": null,
      "outputs": [
        {
          "output_type": "stream",
          "name": "stderr",
          "text": [
            "/usr/local/lib/python3.8/dist-packages/sklearn/manifold/_t_sne.py:780: FutureWarning: The default initialization in TSNE will change from 'random' to 'pca' in 1.2.\n",
            "  warnings.warn(\n",
            "/usr/local/lib/python3.8/dist-packages/sklearn/manifold/_t_sne.py:790: FutureWarning: The default learning rate in TSNE will change from 200.0 to 'auto' in 1.2.\n",
            "  warnings.warn(\n"
          ]
        }
      ]
    },
    {
      "cell_type": "code",
      "source": [
        "# Now use dataframe group by cluster\n",
        "cluster_groups = conn_df.groupby('cluster')\n",
        "\n",
        "# Plot the Machine Learning results\n",
        "colors = {-1:'black', 0:'green', 1:'blue', 2:'red'}\n",
        "fig, ax = plt.subplots()\n",
        "for key, group in cluster_groups:\n",
        "    group.plot(ax=ax, kind='scatter', x='x', y='y', alpha=0.5, s=250,\n",
        "               label='Cluster: {:d}'.format(key), color=colors[key])"
      ],
      "metadata": {
        "colab": {
          "base_uri": "https://localhost:8080/",
          "height": 448
        },
        "id": "y71NuoIIdCIr",
        "outputId": "fcc741cb-a7ec-454f-cb01-ec67e4220844"
      },
      "execution_count": null,
      "outputs": [
        {
          "output_type": "display_data",
          "data": {
            "text/plain": [
              "<Figure size 1008x504 with 1 Axes>"
            ],
            "image/png": "[encoded data removed]"
          },
          "metadata": {
            "needs_background": "light"
          }
        }
      ]
    },
    {
      "cell_type": "code",
      "source": [
        "# Now print out the details for each cluster\n",
        "pd.set_option('display.width', 1000)\n",
        "for key, group in cluster_groups:\n",
        "    print('\\nCluster {:d}: {:d} observations'.format(key, len(group)))\n",
        "    print(group[features].head())"
      ],
      "metadata": {
        "colab": {
          "base_uri": "https://localhost:8080/"
        },
        "id": "yxp1ifMweLMB",
        "outputId": "7f8a10ec-9005-43d9-a863-d5f1ff2bff1a"
      },
      "execution_count": null,
      "outputs": [
        {
          "output_type": "stream",
          "name": "stdout",
          "text": [
            "\n",
            "Cluster 0: 6405 observations\n",
            "                              duration  orig_bytes  resp_bytes  missed_bytes  orig_ip_bytes  resp_ip_bytes\n",
            "ts                                                                                                        \n",
            "2023-02-06 07:54:55.834434048      NaT        <NA>        <NA>             0             78              0\n",
            "2023-02-06 07:54:55.940392960      NaT        <NA>        <NA>             0             78              0\n",
            "2023-02-06 07:54:55.941020928      NaT        <NA>        <NA>             0             78              0\n",
            "2023-02-06 07:54:56.147490048      NaT        <NA>        <NA>             0             78              0\n",
            "2023-02-06 07:54:56.147490048      NaT        <NA>        <NA>             0             78              0\n",
            "\n",
            "Cluster 1: 7298 observations\n",
            "                                            duration  orig_bytes  resp_bytes  missed_bytes  orig_ip_bytes  resp_ip_bytes\n",
            "ts                                                                                                                      \n",
            "2023-02-06 07:54:51.884406016 0 days 00:00:00.030683          35          85             0            287            289\n",
            "2023-02-06 07:54:51.883755008 0 days 00:00:00.034385          35         299             0            287            503\n",
            "2023-02-06 07:54:51.760662016 0 days 00:00:07.625318         272           0             0            384              0\n",
            "2023-02-06 07:55:04.966973952 0 days 00:00:00.894638         204           0             0            288              0\n",
            "2023-02-06 07:55:09.972538880 0 days 00:00:00.006804          36         343             0            288            555\n",
            "\n",
            "Cluster 2: 122 observations\n",
            "                                            duration  orig_bytes  resp_bytes  missed_bytes  orig_ip_bytes  resp_ip_bytes\n",
            "ts                                                                                                                      \n",
            "2023-02-06 07:55:13.070338048 0 days 00:16:39.200409      135756           0             0         143512              0\n",
            "2023-02-06 08:07:26.843923200 0 days 00:15:44.404920       26587       33149             0          33944          42823\n",
            "2023-02-06 08:04:26.212393984 0 days 00:18:45.038897        9462        3705             0          14957           9761\n",
            "2023-02-06 08:06:46.818656000 0 days 00:15:46.254050       28200           0             0          29880              0\n",
            "2023-02-06 07:55:07.271015936 0 days 00:27:38.754898       72358           0             0          80730              0\n"
          ]
        }
      ]
    },
    {
      "cell_type": "markdown",
      "source": [
        "#### 3.2 USING DBSCAN ####\n",
        "<I>Density-based spatial clustering is a data clustering algorithm that given a set of points in space, groups points that are closely packed together and marking low-density regions as outliers.</i>  \n",
        "\n",
        "<i>You don't have to pick K. There are other hyperparameters (eps and min_samples) but defaults often work well </i>"
      ],
      "metadata": {
        "id": "_K9a4GmHidfA"
      }
    },
    {
      "cell_type": "code",
      "source": [
        "# Now try DBScan\n",
        "conn_df['cluster_db'] = DBSCAN().fit_predict(conn_feature_matrix)\n",
        "print('Number of Clusters: {:d}'.format(conn_df['cluster_db'].nunique()))"
      ],
      "metadata": {
        "colab": {
          "base_uri": "https://localhost:8080/"
        },
        "id": "WvICZV53ivEu",
        "outputId": "6eba869d-0e24-4fc3-8af1-e93d995cfb0a"
      },
      "execution_count": null,
      "outputs": [
        {
          "output_type": "stream",
          "name": "stdout",
          "text": [
            "Number of Clusters: 3\n"
          ]
        }
      ]
    },
    {
      "cell_type": "code",
      "source": [
        "# Now use dataframe group by cluster\n",
        "cluster_groups_db = conn_df.groupby('cluster_db')\n",
        "\n",
        "# Projection using TSNE or PCA algorithm\n",
        "# projection = TSNE().fit_transform(conn_feature_matrix);\n",
        "\n",
        "# conn_df['x'] = projection[:, 0]; # Projection X Column\n",
        "# conn_df['y'] = projection[:, 1]; # Projection Y Column\n",
        "\n",
        "\n",
        "colors = {-1:'green', 0:'blue', 2:'yellow'}\n",
        "\n",
        "# Plot the Machine Learning results\n",
        "fig, ax = plt.subplots()\n",
        "for key, group in cluster_groups_db:\n",
        "    group.plot(ax=ax, kind='scatter', x='x', y='y', alpha=0.5, s=250,\n",
        "               label='Cluster_DB: {:d}'.format(key), color=colors[key])"
      ],
      "metadata": {
        "colab": {
          "base_uri": "https://localhost:8080/",
          "height": 487
        },
        "id": "Jr1D9XUWjCoL",
        "outputId": "05413c5b-4827-4373-801a-548f52902de6"
      },
      "execution_count": null,
      "outputs": [
        {
          "output_type": "stream",
          "name": "stderr",
          "text": [
            "/usr/local/lib/python3.8/dist-packages/sklearn/manifold/_t_sne.py:780: FutureWarning: The default initialization in TSNE will change from 'random' to 'pca' in 1.2.\n",
            "  warnings.warn(\n",
            "/usr/local/lib/python3.8/dist-packages/sklearn/manifold/_t_sne.py:790: FutureWarning: The default learning rate in TSNE will change from 200.0 to 'auto' in 1.2.\n",
            "  warnings.warn(\n"
          ]
        },
        {
          "output_type": "error",
          "ename": "KeyboardInterrupt",
          "evalue": "ignored",
          "traceback": [
            "\u001b[0;31m---------------------------------------------------------------------------\u001b[0m",
            "\u001b[0;31mKeyboardInterrupt\u001b[0m                         Traceback (most recent call last)",
            "\u001b[0;32m<ipython-input-14-f73b3380ac6b>\u001b[0m in \u001b[0;36m<module>\u001b[0;34m\u001b[0m\n\u001b[1;32m      3\u001b[0m \u001b[0;34m\u001b[0m\u001b[0m\n\u001b[1;32m      4\u001b[0m \u001b[0;31m# Projection using TSNE or PCA algorithm\u001b[0m\u001b[0;34m\u001b[0m\u001b[0;34m\u001b[0m\u001b[0;34m\u001b[0m\u001b[0m\n\u001b[0;32m----> 5\u001b[0;31m \u001b[0mprojection\u001b[0m \u001b[0;34m=\u001b[0m \u001b[0mTSNE\u001b[0m\u001b[0;34m(\u001b[0m\u001b[0;34m)\u001b[0m\u001b[0;34m.\u001b[0m\u001b[0mfit_transform\u001b[0m\u001b[0;34m(\u001b[0m\u001b[0mconn_feature_matrix\u001b[0m\u001b[0;34m)\u001b[0m\u001b[0;34m;\u001b[0m\u001b[0;34m\u001b[0m\u001b[0;34m\u001b[0m\u001b[0m\n\u001b[0m\u001b[1;32m      6\u001b[0m \u001b[0;34m\u001b[0m\u001b[0m\n\u001b[1;32m      7\u001b[0m \u001b[0mconn_df\u001b[0m\u001b[0;34m[\u001b[0m\u001b[0;34m'x'\u001b[0m\u001b[0;34m]\u001b[0m \u001b[0;34m=\u001b[0m \u001b[0mprojection\u001b[0m\u001b[0;34m[\u001b[0m\u001b[0;34m:\u001b[0m\u001b[0;34m,\u001b[0m \u001b[0;36m0\u001b[0m\u001b[0;34m]\u001b[0m\u001b[0;34m;\u001b[0m \u001b[0;31m# Projection X Column\u001b[0m\u001b[0;34m\u001b[0m\u001b[0;34m\u001b[0m\u001b[0m\n",
            "\u001b[0;32m/usr/local/lib/python3.8/dist-packages/sklearn/manifold/_t_sne.py\u001b[0m in \u001b[0;36mfit_transform\u001b[0;34m(self, X, y)\u001b[0m\n\u001b[1;32m   1106\u001b[0m             \u001b[0mEmbedding\u001b[0m \u001b[0mof\u001b[0m \u001b[0mthe\u001b[0m \u001b[0mtraining\u001b[0m \u001b[0mdata\u001b[0m \u001b[0;32min\u001b[0m \u001b[0mlow\u001b[0m\u001b[0;34m-\u001b[0m\u001b[0mdimensional\u001b[0m \u001b[0mspace\u001b[0m\u001b[0;34m.\u001b[0m\u001b[0;34m\u001b[0m\u001b[0;34m\u001b[0m\u001b[0m\n\u001b[1;32m   1107\u001b[0m         \"\"\"\n\u001b[0;32m-> 1108\u001b[0;31m         \u001b[0membedding\u001b[0m \u001b[0;34m=\u001b[0m \u001b[0mself\u001b[0m\u001b[0;34m.\u001b[0m\u001b[0m_fit\u001b[0m\u001b[0;34m(\u001b[0m\u001b[0mX\u001b[0m\u001b[0;34m)\u001b[0m\u001b[0;34m\u001b[0m\u001b[0;34m\u001b[0m\u001b[0m\n\u001b[0m\u001b[1;32m   1109\u001b[0m         \u001b[0mself\u001b[0m\u001b[0;34m.\u001b[0m\u001b[0membedding_\u001b[0m \u001b[0;34m=\u001b[0m \u001b[0membedding\u001b[0m\u001b[0;34m\u001b[0m\u001b[0;34m\u001b[0m\u001b[0m\n\u001b[1;32m   1110\u001b[0m         \u001b[0;32mreturn\u001b[0m \u001b[0mself\u001b[0m\u001b[0;34m.\u001b[0m\u001b[0membedding_\u001b[0m\u001b[0;34m\u001b[0m\u001b[0;34m\u001b[0m\u001b[0m\n",
            "\u001b[0;32m/usr/local/lib/python3.8/dist-packages/sklearn/manifold/_t_sne.py\u001b[0m in \u001b[0;36m_fit\u001b[0;34m(self, X, skip_num_points)\u001b[0m\n\u001b[1;32m    945\u001b[0m \u001b[0;34m\u001b[0m\u001b[0m\n\u001b[1;32m    946\u001b[0m             \u001b[0mt0\u001b[0m \u001b[0;34m=\u001b[0m \u001b[0mtime\u001b[0m\u001b[0;34m(\u001b[0m\u001b[0;34m)\u001b[0m\u001b[0;34m\u001b[0m\u001b[0;34m\u001b[0m\u001b[0m\n\u001b[0;32m--> 947\u001b[0;31m             \u001b[0mdistances_nn\u001b[0m \u001b[0;34m=\u001b[0m \u001b[0mknn\u001b[0m\u001b[0;34m.\u001b[0m\u001b[0mkneighbors_graph\u001b[0m\u001b[0;34m(\u001b[0m\u001b[0mmode\u001b[0m\u001b[0;34m=\u001b[0m\u001b[0;34m\"distance\"\u001b[0m\u001b[0;34m)\u001b[0m\u001b[0;34m\u001b[0m\u001b[0;34m\u001b[0m\u001b[0m\n\u001b[0m\u001b[1;32m    948\u001b[0m             \u001b[0mduration\u001b[0m \u001b[0;34m=\u001b[0m \u001b[0mtime\u001b[0m\u001b[0;34m(\u001b[0m\u001b[0;34m)\u001b[0m \u001b[0;34m-\u001b[0m \u001b[0mt0\u001b[0m\u001b[0;34m\u001b[0m\u001b[0;34m\u001b[0m\u001b[0m\n\u001b[1;32m    949\u001b[0m             \u001b[0;32mif\u001b[0m \u001b[0mself\u001b[0m\u001b[0;34m.\u001b[0m\u001b[0mverbose\u001b[0m\u001b[0;34m:\u001b[0m\u001b[0;34m\u001b[0m\u001b[0;34m\u001b[0m\u001b[0m\n",
            "\u001b[0;32m/usr/local/lib/python3.8/dist-packages/sklearn/manifold/_t_sne.py\u001b[0m in \u001b[0;36m_tsne\u001b[0;34m(self, P, degrees_of_freedom, n_samples, X_embedded, neighbors, skip_num_points)\u001b[0m\n\u001b[1;32m   1054\u001b[0m         \u001b[0;31m# higher learning rate controlled via the early exaggeration parameter\u001b[0m\u001b[0;34m\u001b[0m\u001b[0;34m\u001b[0m\u001b[0;34m\u001b[0m\u001b[0m\n\u001b[1;32m   1055\u001b[0m         \u001b[0mP\u001b[0m \u001b[0;34m*=\u001b[0m \u001b[0mself\u001b[0m\u001b[0;34m.\u001b[0m\u001b[0mearly_exaggeration\u001b[0m\u001b[0;34m\u001b[0m\u001b[0;34m\u001b[0m\u001b[0m\n\u001b[0;32m-> 1056\u001b[0;31m         \u001b[0mparams\u001b[0m\u001b[0;34m,\u001b[0m \u001b[0mkl_divergence\u001b[0m\u001b[0;34m,\u001b[0m \u001b[0mit\u001b[0m \u001b[0;34m=\u001b[0m \u001b[0m_gradient_descent\u001b[0m\u001b[0;34m(\u001b[0m\u001b[0mobj_func\u001b[0m\u001b[0;34m,\u001b[0m \u001b[0mparams\u001b[0m\u001b[0;34m,\u001b[0m \u001b[0;34m**\u001b[0m\u001b[0mopt_args\u001b[0m\u001b[0;34m)\u001b[0m\u001b[0;34m\u001b[0m\u001b[0;34m\u001b[0m\u001b[0m\n\u001b[0m\u001b[1;32m   1057\u001b[0m         \u001b[0;32mif\u001b[0m \u001b[0mself\u001b[0m\u001b[0;34m.\u001b[0m\u001b[0mverbose\u001b[0m\u001b[0;34m:\u001b[0m\u001b[0;34m\u001b[0m\u001b[0;34m\u001b[0m\u001b[0m\n\u001b[1;32m   1058\u001b[0m             print(\n",
            "\u001b[0;32m/usr/local/lib/python3.8/dist-packages/sklearn/manifold/_t_sne.py\u001b[0m in \u001b[0;36m_gradient_descent\u001b[0;34m(objective, p0, it, n_iter, n_iter_check, n_iter_without_progress, momentum, learning_rate, min_gain, min_grad_norm, verbose, args, kwargs)\u001b[0m\n\u001b[1;32m    396\u001b[0m         \u001b[0mkwargs\u001b[0m\u001b[0;34m[\u001b[0m\u001b[0;34m\"compute_error\"\u001b[0m\u001b[0;34m]\u001b[0m \u001b[0;34m=\u001b[0m \u001b[0mcheck_convergence\u001b[0m \u001b[0;32mor\u001b[0m \u001b[0mi\u001b[0m \u001b[0;34m==\u001b[0m \u001b[0mn_iter\u001b[0m \u001b[0;34m-\u001b[0m \u001b[0;36m1\u001b[0m\u001b[0;34m\u001b[0m\u001b[0;34m\u001b[0m\u001b[0m\n\u001b[1;32m    397\u001b[0m \u001b[0;34m\u001b[0m\u001b[0m\n\u001b[0;32m--> 398\u001b[0;31m         \u001b[0merror\u001b[0m\u001b[0;34m,\u001b[0m \u001b[0mgrad\u001b[0m \u001b[0;34m=\u001b[0m \u001b[0mobjective\u001b[0m\u001b[0;34m(\u001b[0m\u001b[0mp\u001b[0m\u001b[0;34m,\u001b[0m \u001b[0;34m*\u001b[0m\u001b[0margs\u001b[0m\u001b[0;34m,\u001b[0m \u001b[0;34m**\u001b[0m\u001b[0mkwargs\u001b[0m\u001b[0;34m)\u001b[0m\u001b[0;34m\u001b[0m\u001b[0;34m\u001b[0m\u001b[0m\n\u001b[0m\u001b[1;32m    399\u001b[0m         \u001b[0mgrad_norm\u001b[0m \u001b[0;34m=\u001b[0m \u001b[0mlinalg\u001b[0m\u001b[0;34m.\u001b[0m\u001b[0mnorm\u001b[0m\u001b[0;34m(\u001b[0m\u001b[0mgrad\u001b[0m\u001b[0;34m)\u001b[0m\u001b[0;34m\u001b[0m\u001b[0;34m\u001b[0m\u001b[0m\n\u001b[1;32m    400\u001b[0m \u001b[0;34m\u001b[0m\u001b[0m\n",
            "\u001b[0;32m/usr/local/lib/python3.8/dist-packages/sklearn/manifold/_t_sne.py\u001b[0m in \u001b[0;36m_kl_divergence_bh\u001b[0;34m(params, P, degrees_of_freedom, n_samples, n_components, angle, skip_num_points, verbose, compute_error, num_threads)\u001b[0m\n\u001b[1;32m    277\u001b[0m \u001b[0;34m\u001b[0m\u001b[0m\n\u001b[1;32m    278\u001b[0m     \u001b[0mgrad\u001b[0m \u001b[0;34m=\u001b[0m \u001b[0mnp\u001b[0m\u001b[0;34m.\u001b[0m\u001b[0mzeros\u001b[0m\u001b[0;34m(\u001b[0m\u001b[0mX_embedded\u001b[0m\u001b[0;34m.\u001b[0m\u001b[0mshape\u001b[0m\u001b[0;34m,\u001b[0m \u001b[0mdtype\u001b[0m\u001b[0;34m=\u001b[0m\u001b[0mnp\u001b[0m\u001b[0;34m.\u001b[0m\u001b[0mfloat32\u001b[0m\u001b[0;34m)\u001b[0m\u001b[0;34m\u001b[0m\u001b[0;34m\u001b[0m\u001b[0m\n\u001b[0;32m--> 279\u001b[0;31m     error = _barnes_hut_tsne.gradient(\n\u001b[0m\u001b[1;32m    280\u001b[0m         \u001b[0mval_P\u001b[0m\u001b[0;34m,\u001b[0m\u001b[0;34m\u001b[0m\u001b[0;34m\u001b[0m\u001b[0m\n\u001b[1;32m    281\u001b[0m         \u001b[0mX_embedded\u001b[0m\u001b[0;34m,\u001b[0m\u001b[0;34m\u001b[0m\u001b[0;34m\u001b[0m\u001b[0m\n",
            "\u001b[0;31mKeyboardInterrupt\u001b[0m: "
          ]
        }
      ]
    },
    {
      "cell_type": "code",
      "source": [
        "# Now print out the details for each cluster\n",
        "pd.set_option('display.width', 1000)\n",
        "for key, group in cluster_groups:\n",
        "    print('\\nCluster {:d}: {:d} observations'.format(key, len(group)))\n",
        "    print(group[features].head())"
      ],
      "metadata": {
        "colab": {
          "base_uri": "https://localhost:8080/"
        },
        "id": "ZmUjVioqjTxj",
        "outputId": "5a982063-f702-4089-ef00-de86a3eef141"
      },
      "execution_count": null,
      "outputs": [
        {
          "output_type": "stream",
          "name": "stdout",
          "text": [
            "\n",
            "Cluster -1: 2 observations\n",
            "                                            duration  orig_bytes  resp_bytes  missed_bytes  orig_ip_bytes  resp_ip_bytes\n",
            "ts                                                                                                                      \n",
            "2023-02-06 07:59:54.493336832 0 days 00:00:35.326455        1533    37016725             0         346057       38031257\n",
            "2023-02-06 08:01:14.472413952 0 days 00:00:28.239606        1524    34579144             0         363612       35526916\n",
            "\n",
            "Cluster 0: 7418 observations\n",
            "                                            duration  orig_bytes  resp_bytes  missed_bytes  orig_ip_bytes  resp_ip_bytes\n",
            "ts                                                                                                                      \n",
            "2023-02-06 07:54:51.884406016 0 days 00:00:00.030683          35          85             0            287            289\n",
            "2023-02-06 07:54:51.883755008 0 days 00:00:00.034385          35         299             0            287            503\n",
            "2023-02-06 07:54:51.760662016 0 days 00:00:07.625318         272           0             0            384              0\n",
            "2023-02-06 07:55:04.966973952 0 days 00:00:00.894638         204           0             0            288              0\n",
            "2023-02-06 07:55:09.972538880 0 days 00:00:00.006804          36         343             0            288            555\n",
            "\n",
            "Cluster 1: 6405 observations\n",
            "                              duration  orig_bytes  resp_bytes  missed_bytes  orig_ip_bytes  resp_ip_bytes\n",
            "ts                                                                                                        \n",
            "2023-02-06 07:54:55.834434048      NaT        <NA>        <NA>             0             78              0\n",
            "2023-02-06 07:54:55.940392960      NaT        <NA>        <NA>             0             78              0\n",
            "2023-02-06 07:54:55.941020928      NaT        <NA>        <NA>             0             78              0\n",
            "2023-02-06 07:54:56.147490048      NaT        <NA>        <NA>             0             78              0\n",
            "2023-02-06 07:54:56.147490048      NaT        <NA>        <NA>             0             78              0\n"
          ]
        }
      ]
    }
  ]
}